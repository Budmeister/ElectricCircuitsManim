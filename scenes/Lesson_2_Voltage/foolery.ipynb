{
 "cells": [
  {
   "cell_type": "code",
   "execution_count": 2,
   "metadata": {},
   "outputs": [
    {
     "data": {
      "text/html": [
       "<pre style=\"white-space:pre;overflow-x:auto;line-height:normal;font-family:Menlo,'DejaVu Sans Mono',consolas,'Courier New',monospace\">Manim Community <span style=\"color: #008000; text-decoration-color: #008000\">v0.15.2</span>\n",
       "\n",
       "</pre>\n"
      ],
      "text/plain": [
       "Manim Community \u001b[32mv0.\u001b[0m\u001b[32m15.2\u001b[0m\n",
       "\n"
      ]
     },
     "metadata": {},
     "output_type": "display_data"
    }
   ],
   "source": [
    "from manim import *"
   ]
  },
  {
   "cell_type": "code",
   "execution_count": 31,
   "metadata": {},
   "outputs": [
    {
     "name": "stderr",
     "output_type": "stream",
     "text": [
      "                                                                                          \r"
     ]
    },
    {
     "data": {
      "text/html": [
       "<video src=\"media\\jupyter\\Foolery@2022-06-20@18-12-59.mp4\" controls autoplay loop style=\"max-width: 60%;\"  >\n",
       "      Your browser does not support the <code>video</code> element.\n",
       "    </video>"
      ],
      "text/plain": [
       "<IPython.core.display.Video object>"
      ]
     },
     "metadata": {},
     "output_type": "display_data"
    }
   ],
   "source": [
    "%%manim -v WARNING -ql Foolery\n",
    "\n",
    "class Foolery(Scene):\n",
    "    def construct(self):\n",
    "        # voltage = MathTex(r\"\\frac{PE}{q}\", r\"={ { k {Qq} \\over r} } \\over q\").align_on_border(DOWN)\n",
    "        voltage1 = MathTex(r\"\\frac{PE}{q}=\")\n",
    "        voltage2 = MathTex(r\"k { {Qq} \\over r} \\over q\", substrings_to_isolate=[\"k\", \"Q\", \"q\"]).next_to(voltage1, RIGHT)\n",
    "        voltage = VGroup(voltage1, voltage2)\n",
    "        self.play(Write(voltage))\n",
    "        self.wait()\n",
    "\n",
    "        self.play(TransformMatchingTex(voltage2, MathTex(r\"k { {Q} \\over {r} }\", substrings_to_isolate=[\"k\", \"Q\", \"q\"]).next_to(voltage1, RIGHT)))\n",
    "        # eq = MathTex(r\"{{a}} \\over b \\over { {{q}} }\")\n",
    "        # self.add(eq)\n",
    "\n",
    "        self.wait()\n"
   ]
  },
  {
   "cell_type": "code",
   "execution_count": 55,
   "metadata": {},
   "outputs": [
    {
     "name": "stderr",
     "output_type": "stream",
     "text": [
      "                                                                                              \r"
     ]
    },
    {
     "data": {
      "text/html": [
       "<video src=\"media\\jupyter\\Foolery2@2022-06-20@18-47-52.mp4\" controls autoplay loop style=\"max-width: 60%;\"  >\n",
       "      Your browser does not support the <code>video</code> element.\n",
       "    </video>"
      ],
      "text/plain": [
       "<IPython.core.display.Video object>"
      ]
     },
     "metadata": {},
     "output_type": "display_data"
    }
   ],
   "source": [
    "%%manim -v WARNING -ql Foolery2\n",
    "\n",
    "class Foolery2(Scene):\n",
    "    def construct(self):\n",
    "        voltage = MathTex(\n",
    "            \"\\\\frac{PE}{q}=\",\n",
    "            \"{\",\n",
    "            \"{k\", \"{Q\", \"q\", \"\\\\over\", \"r} }\",\n",
    "            \"\\\\over\",\n",
    "            \"q}\"\n",
    "        ).align_on_border(DL)\n",
    "        new_voltage = MathTex(\n",
    "            \"\\\\frac{PE}{q}=\",\n",
    "            \"{k\", \"{Q\", \"\\\\over\", \"r} }\"\n",
    "        ).align_on_border(DL)\n",
    "        self.wait()\n",
    "        self.play(FadeIn(voltage[1:]))\n",
    "        self.play(TransformMatchingTex(voltage, new_voltage))\n",
    "\n",
    "        voltage_with_values = MathTex(\n",
    "            \"=\",\n",
    "            \"\\\\left( 8.98\\\\cdot 10^9 \\\\frac{Nm^2}{C^2} \\\\right)\", \"{ {(1C)}\", \"\\\\over\", \"{(1m)} }\"\n",
    "            \"=\",\n",
    "            \"8.98\", \"J/C\"\n",
    "        ).next_to(voltage, RIGHT)\n",
    "        self.play(FadeIn(voltage_with_values[:5]))\n",
    "        self.play(FadeIn(voltage_with_values[5:]))\n",
    "        self.wait()\n",
    "        self.play(Transform(voltage_with_values[-1], MathTex(\"V\").next_to(voltage_with_values[-2], RIGHT)))\n",
    "\n",
    "        self.wait()\n"
   ]
  },
  {
   "cell_type": "code",
   "execution_count": 14,
   "metadata": {},
   "outputs": [
    {
     "name": "stderr",
     "output_type": "stream",
     "text": [
      "                                                                                                   \r"
     ]
    },
    {
     "data": {
      "text/html": [
       "<video src=\"media\\jupyter\\Foolery3@2022-06-30@19-52-12.mp4\" controls autoplay loop style=\"max-width: 60%;\"  >\n",
       "      Your browser does not support the <code>video</code> element.\n",
       "    </video>"
      ],
      "text/plain": [
       "<IPython.core.display.Video object>"
      ]
     },
     "metadata": {},
     "output_type": "display_data"
    }
   ],
   "source": [
    "%%manim -v WARNING -ql Foolery3\n",
    "from Intro import *\n",
    "\n",
    "# Sub-scenes don't work :'(\n",
    "\n",
    "class MyScene(Scene):\n",
    "    def construct(self):\n",
    "        text = Text(\"Hello World\")\n",
    "        self.add(text)\n",
    "        for _ in range(10):\n",
    "            self.play(text.animate.scale(2))\n",
    "\n",
    "\n",
    "class Foolery3(Scene):\n",
    "    def construct(self):\n",
    "        scene = MyScene()\n",
    "        scene.render()\n",
    "        camera = scene.renderer.camera\n",
    "        image = ImageMobjectFromCamera(camera)\n",
    "        image.get_pixel_array\n",
    "        rect = SurroundingRectangle(image, buff=0)\n",
    "        self.check_interactive_embed_is_valid\n",
    "        # camera = Camera()\n",
    "        self.add(image, rect)\n",
    "\n",
    "        self.wait(2)\n"
   ]
  }
 ],
 "metadata": {
  "kernelspec": {
   "display_name": "Python 3.10.4 ('vcircuits': venv)",
   "language": "python",
   "name": "python3"
  },
  "language_info": {
   "codemirror_mode": {
    "name": "ipython",
    "version": 3
   },
   "file_extension": ".py",
   "mimetype": "text/x-python",
   "name": "python",
   "nbconvert_exporter": "python",
   "pygments_lexer": "ipython3",
   "version": "3.10.4"
  },
  "orig_nbformat": 4,
  "vscode": {
   "interpreter": {
    "hash": "798f3a720154128f5f43200308544b796fe8b1722793bebf5b81a9097641f441"
   }
  }
 },
 "nbformat": 4,
 "nbformat_minor": 2
}
