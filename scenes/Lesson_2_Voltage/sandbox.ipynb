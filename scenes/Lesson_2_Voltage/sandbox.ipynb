{
 "cells": [
  {
   "cell_type": "code",
   "execution_count": 1,
   "metadata": {},
   "outputs": [
    {
     "data": {
      "text/html": [
       "<pre style=\"white-space:pre;overflow-x:auto;line-height:normal;font-family:Menlo,'DejaVu Sans Mono',consolas,'Courier New',monospace\">Manim Community <span style=\"color: #008000; text-decoration-color: #008000\">v0.15.2</span>\n",
       "\n",
       "</pre>\n"
      ],
      "text/plain": [
       "Manim Community \u001b[32mv0.\u001b[0m\u001b[32m15.2\u001b[0m\n",
       "\n"
      ]
     },
     "metadata": {},
     "output_type": "display_data"
    }
   ],
   "source": [
    "from manim import *\n",
    "from manim_extensions import *\n",
    "from circuits.circuit_mobjects import *\n",
    "import circuits.theoretical as tl\n",
    "from stickman import *"
   ]
  },
  {
   "cell_type": "code",
   "execution_count": 2,
   "metadata": {},
   "outputs": [
    {
     "name": "stderr",
     "output_type": "stream",
     "text": [
      "                                                                                                  \r"
     ]
    },
    {
     "data": {
      "text/html": [
       "<video src=\"media\\jupyter\\Intro@2022-06-11@12-33-54.mp4\" controls autoplay loop style=\"max-width: 60%;\"  >\n",
       "      Your browser does not support the <code>video</code> element.\n",
       "    </video>"
      ],
      "text/plain": [
       "<IPython.core.display.Video object>"
      ]
     },
     "metadata": {},
     "output_type": "display_data"
    }
   ],
   "source": [
    "%%manim -v WARNING -qm Intro\n",
    "\n",
    "class Intro(Scene):\n",
    "    def construct(self):\n",
    "        # Build Circuit\n",
    "        circuit = tl.ACCircuit(nodes=4, w=0)\n",
    "        circuit.add(\n",
    "            tl.Wire(0, 1),\n",
    "            tl.IndependantVoltage(4, 2, 0),\n",
    "            tl.Wire(2, 3),\n",
    "            tl.Resistor(4, 1, 3)\n",
    "        )\n",
    "\n",
    "        circuit.nodal_analysis()\n",
    "        circuit.calculate_currents()\n",
    "\n",
    "        cmob_circuit = circuit.get_mobjects(\n",
    "            np.array([\n",
    "                DL * 2,\n",
    "                DR * 2,\n",
    "                UL * 2,\n",
    "                UR * 2\n",
    "            ]),\n",
    "            {\n",
    "                (0, 2): {\"label\": \"4V\"},\n",
    "                (1, 3): {\"label\": \"4Ω\"}\n",
    "            },\n",
    "            do_colored_voltage=True\n",
    "        )\n",
    "\n",
    "        timer = cmob_circuit.get_timer()\n",
    "        cmobjects = cmob_circuit.get_circuit_mobjects()\n",
    "        currents = cmob_circuit.get_current_mobjects()\n",
    "        # Circuit Built\n",
    "\n",
    "        # Circuit Offset\n",
    "        pcircuit_offset = ComplexValueTracker(0)\n",
    "        circuit_offset = ComplexValueTracker(0)\n",
    "        def circuit_offset_updater(m):\n",
    "            z = circuit_offset.get_value() - pcircuit_offset.get_value()\n",
    "            z = np.array([np.real(z), np.imag(z), 0])\n",
    "            cmob_circuit.coords += z\n",
    "            cmobjects.shift(z)\n",
    "            pcircuit_offset.set_value(circuit_offset.get_value())\n",
    "        circuit_offset.add_updater(circuit_offset_updater)\n",
    "        \n",
    "        # Begin Animation\n",
    "        time = 1\n",
    "        self.add(cmobjects, currents)\n",
    "        self.play(timer.animate.set_value(time), run_time=time, rate_func=linear)\n",
    "        \n",
    "        surr_rect = SurroundingRectangle(\n",
    "            VGroup(\n",
    "                cmobjects[2, 0][1],\n",
    "                cmobjects[2, 0].get_label()\n",
    "            )\n",
    "        )\n",
    "        time = 2\n",
    "        self.play(\n",
    "            timer.animate(rate_func=linear).increment_value(time),\n",
    "            Succession(Create(surr_rect), FadeOut(surr_rect)),\n",
    "            run_time=time\n",
    "        )\n",
    "\n",
    "        title = Text(\"Voltage\").scale(2).to_edge(DOWN)\n",
    "        time = 1\n",
    "        self.play(\n",
    "            timer.animate(rate_func=linear).increment_value(time),\n",
    "            circuit_offset.animate.set_value(0.5j),\n",
    "            Write(title),\n",
    "            run_time=time\n",
    "        )\n",
    "        \n",
    "        time = 1\n",
    "        self.play(\n",
    "            timer.animate(rate_func=linear).increment_value(time),\n",
    "        )\n",
    "        \n"
   ]
  },
  {
   "cell_type": "code",
   "execution_count": 2,
   "metadata": {},
   "outputs": [
    {
     "name": "stderr",
     "output_type": "stream",
     "text": [
      "                                                                                       \r"
     ]
    },
    {
     "data": {
      "text/html": [
       "<video src=\"media\\jupyter\\VoltageDefinition@2022-06-11@22-29-22.mp4\" controls autoplay loop style=\"max-width: 60%;\"  >\n",
       "      Your browser does not support the <code>video</code> element.\n",
       "    </video>"
      ],
      "text/plain": [
       "<IPython.core.display.Video object>"
      ]
     },
     "metadata": {},
     "output_type": "display_data"
    }
   ],
   "source": [
    "%%manim -v WARNING -ql VoltageDefinition\n",
    "\n",
    "class VoltageDefinition(Scene):\n",
    "    def construct(self):\n",
    "        electric = Text(\"Electric\")\n",
    "        potential = Text(\"Potential\")\n",
    "        difference = Text(\"Difference\")\n",
    "\n",
    "        group = VGroup(electric, potential, difference)\n",
    "        group.arrange(DOWN).scale(2.5)\n",
    "        time = 2.5\n",
    "        self.play(Succession(*[FadeIn(word) for word in group]), lag_ratio=1.5, run_time=time)\n",
    "        self.wait()\n",
    "        self.play(Indicate(electric, color=BLUE, rate_func=smooth))\n",
    "        self.wait()\n",
    "\n",
    "        self.play(electric.animate.scale(1/1.2))\n",
    "        self.wait()\n",
    "\n",
    "        self.play(Indicate(potential, color=BLUE, rate_func=smooth))\n",
    "        self.wait()\n",
    "        \n",
    "        self.play(potential.animate.scale(1/1.2))\n",
    "        self.wait()\n",
    "\n",
    "        self.play(Indicate(difference, color=BLUE, rate_func=smooth))\n",
    "        self.wait()\n",
    "        \n",
    "\n"
   ]
  },
  {
   "cell_type": "code",
   "execution_count": 4,
   "metadata": {},
   "outputs": [
    {
     "name": "stderr",
     "output_type": "stream",
     "text": [
      "                                                                                                         \r"
     ]
    },
    {
     "data": {
      "text/html": [
       "<video src=\"media\\jupyter\\StickManTest@2022-06-11@22-29-54.mp4\" controls autoplay loop style=\"max-width: 60%;\"  >\n",
       "      Your browser does not support the <code>video</code> element.\n",
       "    </video>"
      ],
      "text/plain": [
       "<IPython.core.display.Video object>"
      ]
     },
     "metadata": {},
     "output_type": "display_data"
    }
   ],
   "source": [
    "%%manim -v WARNING -qm --flush_cache StickManTest\n",
    "\n",
    "class StickManTest(Scene):\n",
    "    def construct(self):\n",
    "        stickman = StickMan(leg_angle=np.pi / 6).scale(2/3).shift(LEFT).rotate(PI)\n",
    "        self.play(Create(stickman))\n",
    "        self.play(stickman.wiggle_right_arm())\n",
    "        # rotated_stickman = stickman.copy().rotate(PI)\n",
    "        # self.play(stickman.wiggle_right_arm())\n",
    "        self.play(stickman.animate.rotate(PI))\n",
    "        self.wait()\n"
   ]
  },
  {
   "cell_type": "code",
   "execution_count": 3,
   "metadata": {},
   "outputs": [
    {
     "name": "stderr",
     "output_type": "stream",
     "text": [
      "                                                                                                   \r"
     ]
    },
    {
     "data": {
      "text/html": [
       "<video src=\"media\\jupyter\\GravitationalPotentialEnergy@2022-06-12@20-40-10.mp4\" controls autoplay loop style=\"max-width: 60%;\"  >\n",
       "      Your browser does not support the <code>video</code> element.\n",
       "    </video>"
      ],
      "text/plain": [
       "<IPython.core.display.Video object>"
      ]
     },
     "metadata": {},
     "output_type": "display_data"
    }
   ],
   "source": [
    "%%manim -v WARNING -qm GravitationalPotentialEnergy\n",
    "\n",
    "class GravitationalPotentialEnergy(Scene):\n",
    "    def construct(self):\n",
    "        skyscraper = SVGMobject(\"./svgs/skyscraper.svg\").scale(3)\n",
    "        self.add(skyscraper)\n",
    "\n",
    "        self.wait()\n",
    "        height_count = ValueTracker(0)\n",
    "        height_count_width = 0.3\n",
    "        line1 = Line(height_count_width / 2 * LEFT, height_count_width / 2 * RIGHT)\n",
    "        line2 = always_redraw(lambda: line1.copy().shift(height_count.get_value() * UP))\n",
    "        line3 = always_redraw(lambda: DashedLine(line1.get_midpoint(), line2.get_midpoint()))\n",
    "        text  = always_redraw(lambda: Text(str(round(height_count.get_value() / 6 * 300)) + \"m\").next_to(line3, LEFT))\n",
    "        line1.next_to(skyscraper, LEFT).align_to(skyscraper, DOWN)\n",
    "        height_count_group = VGroup(line1, line2, line3, text)\n",
    "        self.add(height_count_group)\n",
    "        self.play(height_count.animate.set_value(6), run_time=3)\n",
    "\n",
    "        self.wait()\n",
    "        self.play(FadeOut(height_count_group, run_time=0.3), skyscraper.animate.scale(20).align_to(ORIGIN, UR))\n",
    "        self.wait()\n",
    "\n",
    "        stickman = StickMan(LEFT + UP * 1.5 + RIGHT * 0.5, leg_angle=np.pi / 6)\n",
    "        ball = Circle(radius=0.3, color=RED, fill_opacity=1).move_to(stickman.get_right_arm_end() + RIGHT * 0.3)\n",
    "        stickman.get_right\n",
    "        self.play(Succession(Create(stickman), Create(ball, run_time=0.2)))\n",
    "\n",
    "        # PE Equation\n",
    "        starts = [6, 27]\n",
    "        pe = MathTex(r\"PE &= mgh\\\\ &= (1kg)(9.8\\frac{m}{s^2})(300m)\\\\ &= 2940J\").shift(RIGHT * 4)\n",
    "        pe = pe[0]\n",
    "        self.play(Write(pe[:starts[0]]))\n",
    "        self.wait()\n",
    "        self.play(ReplacementTransform(pe[2:starts[0]].copy(), pe[starts[0]:starts[1]]))\n",
    "        self.wait()\n",
    "        self.play(ReplacementTransform(pe[starts[0]:starts[1]].copy(), pe[starts[1]:]))\n",
    "        \n",
    "        # Ball drop\n",
    "        self.play(\n",
    "            stickman.right_arm.animate(run_time=0.2).rotate(PI / 10, about_point=stickman.get_left_arm_start()),\n",
    "            ball.animate(rate_func=lambda a: a**2, run_time=1).shift(DOWN * 8)\n",
    "        )\n",
    "\n",
    "        \n",
    "        self.wait()\n"
   ]
  },
  {
   "cell_type": "code",
   "execution_count": 9,
   "metadata": {},
   "outputs": [],
   "source": [
    "SPRING_PE_COLOR = YELLOW_C\n",
    "ELECTRIC_PE_COLOR = \"#2136c2\""
   ]
  },
  {
   "cell_type": "code",
   "execution_count": 53,
   "metadata": {},
   "outputs": [
    {
     "name": "stderr",
     "output_type": "stream",
     "text": [
      "                                                                                            \r"
     ]
    },
    {
     "data": {
      "text/html": [
       "<video src=\"media\\jupyter\\SpringPotentialEnergy@2022-06-14@23-03-18.mp4\" controls autoplay loop style=\"max-width: 60%;\"  >\n",
       "      Your browser does not support the <code>video</code> element.\n",
       "    </video>"
      ],
      "text/plain": [
       "<IPython.core.display.Video object>"
      ]
     },
     "metadata": {},
     "output_type": "display_data"
    }
   ],
   "source": [
    "%%manim -v WARNING -qm SpringPotentialEnergy\n",
    "\n",
    "class SpringPotentialEnergy(Scene):\n",
    "    def construct(self):\n",
    "        inductor = InductorElement(DOWN * 4, ORIGIN, 1, 4, 1)\n",
    "        spring = VGroup(\n",
    "            inductor,\n",
    "            Line().align_to(inductor, UP)\n",
    "        )\n",
    "        self.add(spring)\n",
    "\n",
    "        equilibrium = DashedLine(LEFT * 3, RIGHT * 3, color=GRAY)\n",
    "\n",
    "        scale_width = 0.3\n",
    "        line1 = Line(ORIGIN, RIGHT * scale_width).align_to(equilibrium, LEFT)\n",
    "        line2 = always_redraw(lambda: line1.copy().align_to(spring[1], DOWN))\n",
    "        line3 = always_redraw(lambda: DashedLine(line1.get_center(), line2.get_center()))\n",
    "        self.add(line1, line2, line3)\n",
    "        \n",
    "        scale = ValueTracker(1)\n",
    "        scale.prev = scale.get_value()\n",
    "        def spring_updater(m):\n",
    "            spring.stretch(scale.get_value() / scale.prev, 1, about_edge=DOWN)\n",
    "            scale.prev = scale.get_value()\n",
    "        spring.add_updater(spring_updater)\n",
    "\n",
    "        spring_size = 1\n",
    "        k = 1000\n",
    "        max_pe = 125\n",
    "        def get_dx():\n",
    "            return spring_size * (1 - scale.get_value())\n",
    "        def get_pe():\n",
    "            return 0.5 * k * get_dx() ** 2\n",
    "        pe = always_redraw(lambda: MathTex(\"PE=\" + str(round(get_pe(), 1)) + \"J\").next_to(equilibrium, RIGHT))\n",
    "        ke = always_redraw(lambda: MathTex(\"KE=\" + str(round(max_pe - get_pe(), 1)) + \"J\").next_to(pe, UP).align_to(pe, LEFT))\n",
    "        spring.add_updater(lambda m: m.set_color(interpolate_color(WHITE, SPRING_PE_COLOR, get_pe() / max_pe)))\n",
    "        \n",
    "        self.add(pe, ke)\n",
    "\n",
    "        self.play(Create(equilibrium), run_time=0.5)\n",
    "\n",
    "        ball = Circle(radius=0.3, color=RED, fill_opacity=1).shift(UP * 5)\n",
    "        self.play(ball.animate.shift(DOWN * 4.7), rate_func=linear, run_time=0.3)\n",
    "        ball_updater = lambda m: m.move_to(spring[1].get_center() + UP * 0.3)\n",
    "        ball.add_updater(ball_updater)\n",
    "        \n",
    "        rate_func = lambda a: (1 - np.exp(-a * 4)) / (1 - np.exp(-4))\n",
    "        self.play(scale.animate.set_value(0.5), rate_func=rate_func, run_time=1)\n",
    "\n",
    "        self.wait()\n",
    "\n",
    "        self.play(scale.animate.set_value(1), rate_func=lambda a: 1 - rate_func(1 - a), run_time=1)\n",
    "        ball.remove_updater(ball_updater)\n",
    "\n",
    "        self.play(ball.animate.shift(UP * 4.7), rate_func=linear, run_time=0.3)\n",
    "\n",
    "\n",
    "        self.wait()\n"
   ]
  },
  {
   "cell_type": "code",
   "execution_count": 56,
   "metadata": {},
   "outputs": [
    {
     "name": "stderr",
     "output_type": "stream",
     "text": [
      "                                                                                                  \r"
     ]
    },
    {
     "data": {
      "text/html": [
       "<video src=\"media\\jupyter\\SpringPotentialEnergy2@2022-06-14@23-07-37.mp4\" controls autoplay loop style=\"max-width: 60%;\"  >\n",
       "      Your browser does not support the <code>video</code> element.\n",
       "    </video>"
      ],
      "text/plain": [
       "<IPython.core.display.Video object>"
      ]
     },
     "metadata": {},
     "output_type": "display_data"
    }
   ],
   "source": [
    "%%manim -v WARNING -qm SpringPotentialEnergy2\n",
    "\n",
    "class SpringPotentialEnergy2(Scene):\n",
    "    def construct(self):\n",
    "        max_pe = 350\n",
    "\n",
    "        line1_pos = ValueTracker(-4)\n",
    "        line2_pos = ValueTracker(0)\n",
    "        line3_pos = ValueTracker(4)\n",
    "        def get_updater(tracker):\n",
    "            return lambda m, dt: m.move_to(tracker.get_value() * RIGHT)\n",
    "        line1 = Line(DOWN * 2, UP * 2)\n",
    "        line1.add_updater(get_updater(line1_pos), call_updater=True)\n",
    "        line2 = Line(DOWN, UP)\n",
    "        line2.add_updater(get_updater(line2_pos), call_updater=True)\n",
    "        line3 = Line(DOWN * 2, UP * 2)\n",
    "        line3.add_updater(get_updater(line3_pos), call_updater=True)\n",
    "\n",
    "        spring1 = always_redraw(lambda: InductorElement(\n",
    "            line1.get_center(),\n",
    "            line2.get_center(),\n",
    "            1, 4, 1\n",
    "        ))\n",
    "        spring2 = always_redraw(lambda: InductorElement(\n",
    "            line2.get_center(),\n",
    "            line3.get_center(),\n",
    "            1, 4, 1\n",
    "        ))\n",
    "\n",
    "        arrow1 = always_redraw(lambda: Arrow(LEFT, RIGHT).next_to(spring1, LEFT))\n",
    "        arrow2 = always_redraw(lambda: Arrow(RIGHT, LEFT).next_to(spring2, RIGHT))\n",
    "\n",
    "        spring_size = 1\n",
    "        equ_length = 4\n",
    "        k = 1000\n",
    "        def get_pe():\n",
    "            dx1 = line2_pos.get_value() - line1_pos.get_value() - equ_length\n",
    "            dx2 = line3_pos.get_value() - line2_pos.get_value() - equ_length\n",
    "            dx1 *= spring_size / equ_length\n",
    "            dx2 *= spring_size / equ_length\n",
    "            pe1 = 0.5 * k * dx1 ** 2\n",
    "            pe2 = 0.5 * k * dx2 ** 2\n",
    "            return pe1 + pe2\n",
    "        pe = always_redraw(lambda: MathTex(\"PE=\" + str(round(get_pe(), 1)) + \"J\").shift(UP * 3).align_to(LEFT * 2, LEFT))\n",
    "\n",
    "        self.add(line1, line2, line3, spring1, spring2, arrow1, arrow2, pe)\n",
    "        [\n",
    "            mob.add_updater(lambda m: m.set_color(interpolate_color(WHITE, SPRING_PE_COLOR, get_pe() / max_pe)))\n",
    "            for mob in (line1, line2, line3, spring1, spring2)\n",
    "        ]\n",
    "\n",
    "        max_min = lambda a, l, u: max(min(a, u), l)\n",
    "        self.wait()\n",
    "        self.play(\n",
    "            line1_pos.animate.set_value(-3),\n",
    "            line3_pos.animate.set_value(3)\n",
    "        )\n",
    "        self.wait()\n",
    "        self.play(\n",
    "            line1_pos.animate.set_value(-2),\n",
    "            line3_pos.animate.set_value(2)\n",
    "        )\n",
    "\n",
    "        self.wait()\n",
    "\n"
   ]
  },
  {
   "cell_type": "code",
   "execution_count": 3,
   "metadata": {},
   "outputs": [],
   "source": [
    "def rprint(arg):\n",
    "    print(arg)\n",
    "    return arg\n"
   ]
  },
  {
   "cell_type": "code",
   "execution_count": 10,
   "metadata": {},
   "outputs": [
    {
     "name": "stderr",
     "output_type": "stream",
     "text": [
      "                                                                                                       \r"
     ]
    },
    {
     "ename": "TypeError",
     "evalue": "always_redraw.<locals>.<lambda>() missing 1 required positional argument: 'm'",
     "output_type": "error",
     "traceback": [
      "\u001b[1;31m---------------------------------------------------------------------------\u001b[0m",
      "\u001b[1;31mTypeError\u001b[0m                                 Traceback (most recent call last)",
      "\u001b[1;32md:\\Repositories\\ElectricCircuitsManim\\scenes\\Lesson_2_Voltage\\sandbox.ipynb Cell 10'\u001b[0m in \u001b[0;36m<cell line: 1>\u001b[1;34m()\u001b[0m\n\u001b[1;32m----> <a href='vscode-notebook-cell:/d%3A/Repositories/ElectricCircuitsManim/scenes/Lesson_2_Voltage/sandbox.ipynb#ch0000010?line=0'>1</a>\u001b[0m get_ipython()\u001b[39m.\u001b[39;49mrun_cell_magic(\u001b[39m'\u001b[39;49m\u001b[39mmanim\u001b[39;49m\u001b[39m'\u001b[39;49m, \u001b[39m'\u001b[39;49m\u001b[39m-v WARNING -ql ElectricPotentialEnergy\u001b[39;49m\u001b[39m'\u001b[39;49m, \u001b[39m'\u001b[39;49m\u001b[39m\\n\u001b[39;49;00m\u001b[39mclass ElectricPotentialEnergy(Scene):\u001b[39;49m\u001b[39m\\n\u001b[39;49;00m\u001b[39m    def construct(self):\u001b[39;49m\u001b[39m\\n\u001b[39;49;00m\u001b[39m        max_pe = 1000\u001b[39;49m\u001b[39m\\n\u001b[39;49;00m\u001b[39m        line1_pos = ValueTracker(-6)\u001b[39;49m\u001b[39m\\n\u001b[39;49;00m\u001b[39m        line2_pos = ValueTracker(-4)\u001b[39;49m\u001b[39m\\n\u001b[39;49;00m\u001b[39m        line3_pos = ValueTracker(-2)\u001b[39;49m\u001b[39m\\n\u001b[39;49;00m\u001b[39m        def get_updater(tracker):\u001b[39;49m\u001b[39m\\n\u001b[39;49;00m\u001b[39m            return lambda m, dt: m.move_to(tracker.get_value() * RIGHT)\u001b[39;49m\u001b[39m\\n\u001b[39;49;00m\u001b[39m        line1 = Line(DOWN, UP)\u001b[39;49m\u001b[39m\\n\u001b[39;49;00m\u001b[39m        line1.add_updater(get_updater(line1_pos), call_updater=True)\u001b[39;49m\u001b[39m\\n\u001b[39;49;00m\u001b[39m        line2 = Line(DOWN / 2, UP / 2)\u001b[39;49m\u001b[39m\\n\u001b[39;49;00m\u001b[39m        line2.add_updater(get_updater(line2_pos), call_updater=True)\u001b[39;49m\u001b[39m\\n\u001b[39;49;00m\u001b[39m        line3 = Line(DOWN, UP)\u001b[39;49m\u001b[39m\\n\u001b[39;49;00m\u001b[39m        line3.add_updater(get_updater(line3_pos), call_updater=True)\u001b[39;49m\u001b[39m\\n\u001b[39;49;00m\u001b[39m\\n\u001b[39;49;00m\u001b[39m        \u001b[39;49m\u001b[39m\\n\u001b[39;49;00m\u001b[39m        spring1 = always_redraw(lambda: InductorElement(\u001b[39;49m\u001b[39m\\n\u001b[39;49;00m\u001b[39m            line1.get_midpoint(),\u001b[39;49m\u001b[39m\\n\u001b[39;49;00m\u001b[39m            line2.get_midpoint(),\u001b[39;49m\u001b[39m\\n\u001b[39;49;00m\u001b[39m            0.5, 4, 0.5\u001b[39;49m\u001b[39m\\n\u001b[39;49;00m\u001b[39m        ))\u001b[39;49m\u001b[39m\\n\u001b[39;49;00m\u001b[39m        spring2 = always_redraw(lambda: InductorElement(\u001b[39;49m\u001b[39m\\n\u001b[39;49;00m\u001b[39m            line2.get_midpoint(),\u001b[39;49m\u001b[39m\\n\u001b[39;49;00m\u001b[39m            line3.get_midpoint(),\u001b[39;49m\u001b[39m\\n\u001b[39;49;00m\u001b[39m            0.5, 4, 0.5\u001b[39;49m\u001b[39m\\n\u001b[39;49;00m\u001b[39m        ))\u001b[39;49m\u001b[39m\\n\u001b[39;49;00m\u001b[39m\\n\u001b[39;49;00m\u001b[39m        arrow1 = Arrow(LEFT, RIGHT).scale(0.5).next_to(spring1, LEFT).set_color(BLUE)\u001b[39;49m\u001b[39m\\n\u001b[39;49;00m\u001b[39m        arrow2 = Arrow(RIGHT, LEFT).scale(0.5).next_to(spring2, RIGHT).set_color(BLUE)\u001b[39;49m\u001b[39m\\n\u001b[39;49;00m\u001b[39m\\n\u001b[39;49;00m\u001b[39m        spring_size = 1\u001b[39;49m\u001b[39m\\n\u001b[39;49;00m\u001b[39m        equ_length = 2\u001b[39;49m\u001b[39m\\n\u001b[39;49;00m\u001b[39m        k = 1000\u001b[39;49m\u001b[39m\\n\u001b[39;49;00m\u001b[39m        def get_dx1():\u001b[39;49m\u001b[39m\\n\u001b[39;49;00m\u001b[39m            dx1 = line2_pos.get_value() - line1_pos.get_value() - equ_length\u001b[39;49m\u001b[39m\\n\u001b[39;49;00m\u001b[39m            dx1 *= spring_size / equ_length\u001b[39;49m\u001b[39m\\n\u001b[39;49;00m\u001b[39m            return dx1\u001b[39;49m\u001b[39m\\n\u001b[39;49;00m\u001b[39m        def get_dx2():\u001b[39;49m\u001b[39m\\n\u001b[39;49;00m\u001b[39m            dx2 = line3_pos.get_value() - line2_pos.get_value() - equ_length\u001b[39;49m\u001b[39m\\n\u001b[39;49;00m\u001b[39m            dx2 *= spring_size / equ_length\u001b[39;49m\u001b[39m\\n\u001b[39;49;00m\u001b[39m            return dx2\u001b[39;49m\u001b[39m\\n\u001b[39;49;00m\u001b[39m\\n\u001b[39;49;00m\u001b[39m        def get_pe(dx=None):\u001b[39;49m\u001b[39m\\n\u001b[39;49;00m\u001b[39m            if dx is None:\u001b[39;49m\u001b[39m\\n\u001b[39;49;00m\u001b[39m                dx1 = get_dx1()\u001b[39;49m\u001b[39m\\n\u001b[39;49;00m\u001b[39m                dx2 = get_dx2()\u001b[39;49m\u001b[39m\\n\u001b[39;49;00m\u001b[39m            else:\u001b[39;49m\u001b[39m\\n\u001b[39;49;00m\u001b[39m                dx1 = dx2 = dx / 2 - spring_size\u001b[39;49m\u001b[39m\\n\u001b[39;49;00m\u001b[39m            pe1 = 0.5 * k * dx1 ** 2\u001b[39;49m\u001b[39m\\n\u001b[39;49;00m\u001b[39m            pe2 = 0.5 * k * dx2 ** 2\u001b[39;49m\u001b[39m\\n\u001b[39;49;00m\u001b[39m            return pe1 + pe2\u001b[39;49m\u001b[39m\\n\u001b[39;49;00m\u001b[39m        pe = always_redraw(lambda: MathTex(\u001b[39;49m\u001b[39m\"\u001b[39;49m\u001b[39mPE=\u001b[39;49m\u001b[39m\"\u001b[39;49m\u001b[39m + str(round(get_pe(), 1)) + \u001b[39;49m\u001b[39m\"\u001b[39;49m\u001b[39mJ\u001b[39;49m\u001b[39m\"\u001b[39;49m\u001b[39m).shift(UP * 1.5).align_to(LEFT * 5, LEFT))\u001b[39;49m\u001b[39m\\n\u001b[39;49;00m\u001b[39m\\n\u001b[39;49;00m\u001b[39m        tracker_size = 0.3\u001b[39;49m\u001b[39m\\n\u001b[39;49;00m\u001b[39m        line4 = always_redraw(lambda: Line(ORIGIN, DOWN * tracker_size).next_to(line1, DOWN))\u001b[39;49m\u001b[39m\\n\u001b[39;49;00m\u001b[39m        line5 = always_redraw(lambda: Line(ORIGIN, DOWN * tracker_size).next_to(line3, DOWN))\u001b[39;49m\u001b[39m\\n\u001b[39;49;00m\u001b[39m        line6 = always_redraw(lambda: DashedLine(line4.get_midpoint(), line5.get_midpoint()))\u001b[39;49m\u001b[39m\\n\u001b[39;49;00m\u001b[39m        dx_tracker = always_redraw(\u001b[39;49m\u001b[39m\\n\u001b[39;49;00m\u001b[39m            lambda: MathTex(f\u001b[39;49m\u001b[39m\"\u001b[39;49m\u001b[39mr=\u001b[39;49m\u001b[39m{\u001b[39;49m\u001b[39mround((line3_pos.get_value() - line2_pos.get_value()) * 2 * spring_size / equ_length, 1)}\u001b[39;49m\u001b[39m\"\u001b[39;49m\u001b[39m).next_to(line6, DOWN)\u001b[39;49m\u001b[39m\\n\u001b[39;49;00m\u001b[39m        )\u001b[39;49m\u001b[39m\\n\u001b[39;49;00m\u001b[39m        \u001b[39;49m\u001b[39m\\n\u001b[39;49;00m\u001b[39m        self.add(spring1, spring2, line1, line2, line3, arrow1, arrow2, pe, line4, line5, line6, dx_tracker)\u001b[39;49m\u001b[39m\\n\u001b[39;49;00m\u001b[39m\\n\u001b[39;49;00m\u001b[39m        # Graph\u001b[39;49m\u001b[39m\\n\u001b[39;49;00m\u001b[39m        ax = Axes(\u001b[39;49m\u001b[39m\\n\u001b[39;49;00m\u001b[39m            (0, 2.4, 0.4),\u001b[39;49m\u001b[39m\\n\u001b[39;49;00m\u001b[39m            (0, 1200, 100),\u001b[39;49m\u001b[39m\\n\u001b[39;49;00m\u001b[39m            x_length=6,\u001b[39;49m\u001b[39m\\n\u001b[39;49;00m\u001b[39m            y_length=6,\u001b[39;49m\u001b[39m\\n\u001b[39;49;00m\u001b[39m            x_axis_config=\u001b[39;49m\u001b[39m{\u001b[39;49m\u001b[39m\\n\u001b[39;49;00m\u001b[39m                \u001b[39;49m\u001b[39m\"\u001b[39;49m\u001b[39minclude_numbers\u001b[39;49m\u001b[39m\"\u001b[39;49m\u001b[39m: True\u001b[39;49m\u001b[39m\\n\u001b[39;49;00m\u001b[39m            },\u001b[39;49m\u001b[39m\\n\u001b[39;49;00m\u001b[39m            y_axis_config=\u001b[39;49m\u001b[39m{\u001b[39;49m\u001b[39m\\n\u001b[39;49;00m\u001b[39m                \u001b[39;49m\u001b[39m\"\u001b[39;49m\u001b[39minclude_numbers\u001b[39;49m\u001b[39m\"\u001b[39;49m\u001b[39m: True,\u001b[39;49m\u001b[39m\\n\u001b[39;49;00m\u001b[39m                \u001b[39;49m\u001b[39m\"\u001b[39;49m\u001b[39mnumbers_to_exclude\u001b[39;49m\u001b[39m\"\u001b[39;49m\u001b[39m: [1100]\u001b[39;49m\u001b[39m\\n\u001b[39;49;00m\u001b[39m            }\u001b[39;49m\u001b[39m\\n\u001b[39;49;00m\u001b[39m        ).align_to(ORIGIN, LEFT)\u001b[39;49m\u001b[39m\\n\u001b[39;49;00m\u001b[39m        x_label = Text(\u001b[39;49m\u001b[39m\"\u001b[39;49m\u001b[39mr\u001b[39;49m\u001b[39m\"\u001b[39;49m\u001b[39m).scale(0.7).next_to(ax.get_x_axis().get_tip(), DOWN)\u001b[39;49m\u001b[39m\\n\u001b[39;49;00m\u001b[39m        y_label = Text(\u001b[39;49m\u001b[39m\"\u001b[39;49m\u001b[39mPE(J)\u001b[39;49m\u001b[39m\"\u001b[39;49m\u001b[39m).scale(0.7).next_to(ax.get_y_axis().get_tip(), LEFT)\u001b[39;49m\u001b[39m\\n\u001b[39;49;00m\u001b[39m        # ax.plot(lambda dx: get_pe(dx), (line3_pos.get_value() - line2_pos.get_value(), 1))\u001b[39;49m\u001b[39m\\n\u001b[39;49;00m\u001b[39m        def graph_generator():\u001b[39;49m\u001b[39m\\n\u001b[39;49;00m\u001b[39m            graph = ParametricFunction(\u001b[39;49m\u001b[39m\\n\u001b[39;49;00m\u001b[39m                lambda t: ax.coords_to_point(t, get_pe(t)),\u001b[39;49m\u001b[39m\\n\u001b[39;49;00m\u001b[39m                t_range=np.array([(line3_pos.get_value() - line1_pos.get_value()) * spring_size / equ_length, 2]),\u001b[39;49m\u001b[39m\\n\u001b[39;49;00m\u001b[39m                scaling=ax.x_axis.scaling\u001b[39;49m\u001b[39m\\n\u001b[39;49;00m\u001b[39m            )\u001b[39;49m\u001b[39m\\n\u001b[39;49;00m\u001b[39m            graph.underlying_function = get_pe\u001b[39;49m\u001b[39m\\n\u001b[39;49;00m\u001b[39m            return graph.set_color(SPRING_PE_COLOR)\u001b[39;49m\u001b[39m\\n\u001b[39;49;00m\u001b[39m        graph = always_redraw(graph_generator)\u001b[39;49m\u001b[39m\\n\u001b[39;49;00m\u001b[39m        dot = always_redraw(lambda: Dot(ax.coords_to_point(\u001b[39;49m\u001b[39m\\n\u001b[39;49;00m\u001b[39m            (line3_pos.get_value() - line1_pos.get_value()) * spring_size / equ_length,\u001b[39;49m\u001b[39m\\n\u001b[39;49;00m\u001b[39m            get_pe((line3_pos.get_value() - line1_pos.get_value()) * spring_size / equ_length)\u001b[39;49m\u001b[39m\\n\u001b[39;49;00m\u001b[39m        ), color=YELLOW_A))\u001b[39;49m\u001b[39m\\n\u001b[39;49;00m\u001b[39m        \u001b[39;49m\u001b[39m\\n\u001b[39;49;00m\u001b[39m        self.add(ax, x_label, y_label, graph, dot)\u001b[39;49m\u001b[39m\\n\u001b[39;49;00m\u001b[39m        [\u001b[39;49m\u001b[39m\\n\u001b[39;49;00m\u001b[39m            mob.add_updater(lambda m: m.set_color(interpolate_color(WHITE, SPRING_PE_COLOR, get_pe() / max_pe)))\u001b[39;49m\u001b[39m\\n\u001b[39;49;00m\u001b[39m            for mob in (line1, line2, line3, spring1, spring2)\u001b[39;49m\u001b[39m\\n\u001b[39;49;00m\u001b[39m        ]\u001b[39;49m\u001b[39m\\n\u001b[39;49;00m\u001b[39m\\n\u001b[39;49;00m\u001b[39m        self.wait()\u001b[39;49m\u001b[39m\\n\u001b[39;49;00m\u001b[39m\\n\u001b[39;49;00m\u001b[39m        arrow1.new = always_redraw(\u001b[39;49m\u001b[39m\\n\u001b[39;49;00m\u001b[39m            lambda: Arrow(ORIGIN, LEFT * -get_dx1(), buff=0)\u001b[39;49m\u001b[39m\\n\u001b[39;49;00m\u001b[39m            .align_to(line1, RIGHT)\u001b[39;49m\u001b[39m\\n\u001b[39;49;00m\u001b[39m            .set_color(SPRING_PE_COLOR)\u001b[39;49m\u001b[39m\\n\u001b[39;49;00m\u001b[39m        )\u001b[39;49m\u001b[39m\\n\u001b[39;49;00m\u001b[39m        arrow2.new = always_redraw(\u001b[39;49m\u001b[39m\\n\u001b[39;49;00m\u001b[39m            lambda: Arrow(ORIGIN, RIGHT * -get_dx2(), buff=0)\u001b[39;49m\u001b[39m\\n\u001b[39;49;00m\u001b[39m            .align_to(line3, LEFT)\u001b[39;49m\u001b[39m\\n\u001b[39;49;00m\u001b[39m            .set_color(SPRING_PE_COLOR)\u001b[39;49m\u001b[39m\\n\u001b[39;49;00m\u001b[39m        )\u001b[39;49m\u001b[39m\\n\u001b[39;49;00m\u001b[39m        self.play(\u001b[39;49m\u001b[39m\\n\u001b[39;49;00m\u001b[39m            ReplacementTransform(arrow1, arrow1.new),\u001b[39;49m\u001b[39m\\n\u001b[39;49;00m\u001b[39m            ReplacementTransform(arrow2, arrow2.new)\u001b[39;49m\u001b[39m\\n\u001b[39;49;00m\u001b[39m        )\u001b[39;49m\u001b[39m\\n\u001b[39;49;00m\u001b[39m        arrow1 = arrow1.new\u001b[39;49m\u001b[39m\\n\u001b[39;49;00m\u001b[39m        arrow2 = arrow2.new\u001b[39;49m\u001b[39m\\n\u001b[39;49;00m\u001b[39m\\n\u001b[39;49;00m\u001b[39m        self.wait()\u001b[39;49m\u001b[39m\\n\u001b[39;49;00m\u001b[39m\\n\u001b[39;49;00m\u001b[39m        self.play(\u001b[39;49m\u001b[39m\\n\u001b[39;49;00m\u001b[39m            line1_pos.animate.set_value(-5),\u001b[39;49m\u001b[39m\\n\u001b[39;49;00m\u001b[39m            line3_pos.animate.set_value(-3)\u001b[39;49m\u001b[39m\\n\u001b[39;49;00m\u001b[39m        )\u001b[39;49m\u001b[39m\\n\u001b[39;49;00m\u001b[39m        self.wait()\u001b[39;49m\u001b[39m\\n\u001b[39;49;00m\u001b[39m\\n\u001b[39;49;00m\u001b[39m        self.play(\u001b[39;49m\u001b[39m\\n\u001b[39;49;00m\u001b[39m            line1_pos.animate.set_value(-4.5),\u001b[39;49m\u001b[39m\\n\u001b[39;49;00m\u001b[39m            line3_pos.animate.set_value(-3.5)\u001b[39;49m\u001b[39m\\n\u001b[39;49;00m\u001b[39m        )\u001b[39;49m\u001b[39m\\n\u001b[39;49;00m\u001b[39m        self.wait()\u001b[39;49m\u001b[39m\\n\u001b[39;49;00m\u001b[39m\\n\u001b[39;49;00m\u001b[39m        spring_graph = ax.plot(get_pe, (0, 2)).set_color(SPRING_PE_COLOR)\u001b[39;49m\u001b[39m\\n\u001b[39;49;00m\u001b[39m        self.play(\u001b[39;49m\u001b[39m\\n\u001b[39;49;00m\u001b[39m            *[FadeOut(mob) for mob in \u001b[39;49m\u001b[39m\\n\u001b[39;49;00m\u001b[39m            (line1, line2, line3, line4, line5, line6, dx_tracker, spring1, spring2, arrow1, arrow2, pe)],\u001b[39;49m\u001b[39m\\n\u001b[39;49;00m\u001b[39m            FadeIn(spring_graph)\u001b[39;49m\u001b[39m\\n\u001b[39;49;00m\u001b[39m        )\u001b[39;49m\u001b[39m\\n\u001b[39;49;00m\u001b[39m        self.remove(graph, dot)\u001b[39;49m\u001b[39m\\n\u001b[39;49;00m\u001b[39m\\n\u001b[39;49;00m\u001b[39m        self.wait()\u001b[39;49m\u001b[39m\\n\u001b[39;49;00m\u001b[39m\\n\u001b[39;49;00m\u001b[39m        # Electric PE\u001b[39;49m\u001b[39m\\n\u001b[39;49;00m\u001b[39m        max_pe = 1000\u001b[39;49m\u001b[39m\\n\u001b[39;49;00m\u001b[39m        k = 250\u001b[39;49m\u001b[39m\\n\u001b[39;49;00m\u001b[39m        q1 = 1\u001b[39;49m\u001b[39m\\n\u001b[39;49;00m\u001b[39m        q2 = 1\u001b[39;49m\u001b[39m\\n\u001b[39;49;00m\u001b[39m        right_charge_pos = ValueTracker(-2)\u001b[39;49m\u001b[39m\\n\u001b[39;49;00m\u001b[39m        left_charge_pos = ValueTracker(-6)\u001b[39;49m\u001b[39m\\n\u001b[39;49;00m\u001b[39m        scale = 4/1.2\u001b[39;49m\u001b[39m\\n\u001b[39;49;00m\u001b[39m        def get_r():\u001b[39;49m\u001b[39m\\n\u001b[39;49;00m\u001b[39m            return (right_charge_pos.get_value() - left_charge_pos.get_value()) / scale\u001b[39;49m\u001b[39m\\n\u001b[39;49;00m\u001b[39m        def get_pe(r=None):\u001b[39;49m\u001b[39m\\n\u001b[39;49;00m\u001b[39m            if r is None:\u001b[39;49m\u001b[39m\\n\u001b[39;49;00m\u001b[39m                r = get_r()\u001b[39;49m\u001b[39m\\n\u001b[39;49;00m\u001b[39m            return k * q1 * q2 / r\u001b[39;49m\u001b[39m\\n\u001b[39;49;00m\u001b[39m        def get_f(r=None):\u001b[39;49m\u001b[39m\\n\u001b[39;49;00m\u001b[39m            if r is None:\u001b[39;49m\u001b[39m\\n\u001b[39;49;00m\u001b[39m                r = get_r()\u001b[39;49m\u001b[39m\\n\u001b[39;49;00m\u001b[39m            return q1 * q2 / r ** 2\u001b[39;49m\u001b[39m\\n\u001b[39;49;00m\u001b[39m\\n\u001b[39;49;00m\u001b[39m        left_charge = VGroup(\u001b[39;49m\u001b[39m\\n\u001b[39;49;00m\u001b[39m            Circle(radius=0.3, fill_opacity=1),\u001b[39;49m\u001b[39m\\n\u001b[39;49;00m\u001b[39m            Text(\u001b[39;49m\u001b[39m\"\u001b[39;49m\u001b[39m+\u001b[39;49m\u001b[39m\"\u001b[39;49m\u001b[39m).move_to(ORIGIN)\u001b[39;49m\u001b[39m\\n\u001b[39;49;00m\u001b[39m        )\u001b[39;49m\u001b[39m\\n\u001b[39;49;00m\u001b[39m        left_charge.add_updater(lambda m, dt=0:\u001b[39;49m\u001b[39m\\n\u001b[39;49;00m\u001b[39m            m.move_to(left_charge_pos.get_value() * RIGHT)[0].set_color(interpolate_color(BLUE_C, ELECTRIC_PE_COLOR, get_pe() / max_pe))\u001b[39;49m\u001b[39m\\n\u001b[39;49;00m\u001b[39m            ,\u001b[39;49m\u001b[39m\\n\u001b[39;49;00m\u001b[39m            call_updater=True\u001b[39;49m\u001b[39m\\n\u001b[39;49;00m\u001b[39m        )\u001b[39;49m\u001b[39m\\n\u001b[39;49;00m\u001b[39m        right_charge = VGroup(\u001b[39;49m\u001b[39m\\n\u001b[39;49;00m\u001b[39m            Circle(radius=0.3, fill_opacity=1),\u001b[39;49m\u001b[39m\\n\u001b[39;49;00m\u001b[39m            Text(\u001b[39;49m\u001b[39m\"\u001b[39;49m\u001b[39m+\u001b[39;49m\u001b[39m\"\u001b[39;49m\u001b[39m).move_to(ORIGIN)\u001b[39;49m\u001b[39m\\n\u001b[39;49;00m\u001b[39m        )\u001b[39;49m\u001b[39m\\n\u001b[39;49;00m\u001b[39m        right_charge.add_updater(lambda m, dt=0:\u001b[39;49m\u001b[39m\\n\u001b[39;49;00m\u001b[39m            m.move_to(right_charge_pos.get_value() * RIGHT)[0].set_color(interpolate_color(BLUE_C, ELECTRIC_PE_COLOR, get_pe() / max_pe))\u001b[39;49m\u001b[39m\\n\u001b[39;49;00m\u001b[39m            ,\u001b[39;49m\u001b[39m\\n\u001b[39;49;00m\u001b[39m            call_updater=True\u001b[39;49m\u001b[39m\\n\u001b[39;49;00m\u001b[39m        )\u001b[39;49m\u001b[39m\\n\u001b[39;49;00m\u001b[39m        arrow1 = always_redraw(\u001b[39;49m\u001b[39m\\n\u001b[39;49;00m\u001b[39m            lambda: Arrow(ORIGIN, LEFT * get_f(), buff=0)\u001b[39;49m\u001b[39m\\n\u001b[39;49;00m\u001b[39m            .align_to(left_charge.get_left(), RIGHT)\u001b[39;49m\u001b[39m\\n\u001b[39;49;00m\u001b[39m            .set_color(ELECTRIC_PE_COLOR)\u001b[39;49m\u001b[39m\\n\u001b[39;49;00m\u001b[39m        )\u001b[39;49m\u001b[39m\\n\u001b[39;49;00m\u001b[39m        arrow2 = always_redraw(\u001b[39;49m\u001b[39m\\n\u001b[39;49;00m\u001b[39m            lambda: Arrow(ORIGIN, RIGHT * get_f(), buff=0)\u001b[39;49m\u001b[39m\\n\u001b[39;49;00m\u001b[39m            .align_to(right_charge.get_right(), LEFT)\u001b[39;49m\u001b[39m\\n\u001b[39;49;00m\u001b[39m            .set_color(ELECTRIC_PE_COLOR)\u001b[39;49m\u001b[39m\\n\u001b[39;49;00m\u001b[39m        )\u001b[39;49m\u001b[39m\\n\u001b[39;49;00m\u001b[39m\\n\u001b[39;49;00m\u001b[39m        pe = always_redraw(lambda: MathTex(\u001b[39;49m\u001b[39m\"\u001b[39;49m\u001b[39mPE=\u001b[39;49m\u001b[39m\"\u001b[39;49m\u001b[39m + str(round(get_pe(), 1)) + \u001b[39;49m\u001b[39m\"\u001b[39;49m\u001b[39mJ\u001b[39;49m\u001b[39m\"\u001b[39;49m\u001b[39m).shift(UP * 1.5).align_to(LEFT * 5, LEFT))\u001b[39;49m\u001b[39m\\n\u001b[39;49;00m\u001b[39m\\n\u001b[39;49;00m\u001b[39m        tracker_size = 0.3\u001b[39;49m\u001b[39m\\n\u001b[39;49;00m\u001b[39m        line4 = always_redraw(lambda: Line(ORIGIN, DOWN * tracker_size).next_to(left_charge, DOWN))\u001b[39;49m\u001b[39m\\n\u001b[39;49;00m\u001b[39m        line5 = always_redraw(lambda: Line(ORIGIN, DOWN * tracker_size).next_to(right_charge, DOWN))\u001b[39;49m\u001b[39m\\n\u001b[39;49;00m\u001b[39m        line6 = always_redraw(lambda: DashedLine(line4.get_midpoint(), line5.get_midpoint()))\u001b[39;49m\u001b[39m\\n\u001b[39;49;00m\u001b[39m        dx_tracker = always_redraw(\u001b[39;49m\u001b[39m\\n\u001b[39;49;00m\u001b[39m            lambda: MathTex(f\u001b[39;49m\u001b[39m\"\u001b[39;49m\u001b[39mr=\u001b[39;49m\u001b[39m{\u001b[39;49m\u001b[39mround(get_r(), 1)}\u001b[39;49m\u001b[39m\"\u001b[39;49m\u001b[39m).next_to(line6, DOWN)\u001b[39;49m\u001b[39m\\n\u001b[39;49;00m\u001b[39m        )\u001b[39;49m\u001b[39m\\n\u001b[39;49;00m\u001b[39m        \u001b[39;49m\u001b[39m\\n\u001b[39;49;00m\u001b[39m        # Graph\u001b[39;49m\u001b[39m\\n\u001b[39;49;00m\u001b[39m        dx_range = [get_r(), get_r()]\u001b[39;49m\u001b[39m\\n\u001b[39;49;00m\u001b[39m        def graph_generator():\u001b[39;49m\u001b[39m\\n\u001b[39;49;00m\u001b[39m            r = get_r()\u001b[39;49m\u001b[39m\\n\u001b[39;49;00m\u001b[39m            if r < dx_range[0]:\u001b[39;49m\u001b[39m\\n\u001b[39;49;00m\u001b[39m                dx_range[0] = r\u001b[39;49m\u001b[39m\\n\u001b[39;49;00m\u001b[39m            if r > dx_range[1]:\u001b[39;49m\u001b[39m\\n\u001b[39;49;00m\u001b[39m                dx_range[1] = r\u001b[39;49m\u001b[39m\\n\u001b[39;49;00m\u001b[39m            graph = ParametricFunction(\u001b[39;49m\u001b[39m\\n\u001b[39;49;00m\u001b[39m                lambda t: ax.coords_to_point(t, get_pe(t)),\u001b[39;49m\u001b[39m\\n\u001b[39;49;00m\u001b[39m                t_range=np.array(dx_range),\u001b[39;49m\u001b[39m\\n\u001b[39;49;00m\u001b[39m                scaling=ax.x_axis.scaling\u001b[39;49m\u001b[39m\\n\u001b[39;49;00m\u001b[39m            )\u001b[39;49m\u001b[39m\\n\u001b[39;49;00m\u001b[39m            graph.underlying_function = get_pe\u001b[39;49m\u001b[39m\\n\u001b[39;49;00m\u001b[39m            return graph.set_color(ELECTRIC_PE_COLOR)\u001b[39;49m\u001b[39m\\n\u001b[39;49;00m\u001b[39m        graph = always_redraw(graph_generator)\u001b[39;49m\u001b[39m\\n\u001b[39;49;00m\u001b[39m        dot = always_redraw(lambda: Dot(\u001b[39;49m\u001b[39m\\n\u001b[39;49;00m\u001b[39m            ax.coords_to_point(get_r(), get_pe())\u001b[39;49m\u001b[39m\\n\u001b[39;49;00m\u001b[39m        ).set_color(BLUE_B))\u001b[39;49m\u001b[39m\\n\u001b[39;49;00m\u001b[39m        self.add(dot)\u001b[39;49m\u001b[39m\\n\u001b[39;49;00m\u001b[39m\\n\u001b[39;49;00m\u001b[39m\\n\u001b[39;49;00m\u001b[39m        self.play(\u001b[39;49m\u001b[39m\\n\u001b[39;49;00m\u001b[39m            *[FadeIn(mob) for mob in \u001b[39;49m\u001b[39m\\n\u001b[39;49;00m\u001b[39m            (left_charge, right_charge, line4, line5, line6, dx_tracker, pe, dot, graph, arrow1, arrow2)]\u001b[39;49m\u001b[39m\\n\u001b[39;49;00m\u001b[39m        )\u001b[39;49m\u001b[39m\\n\u001b[39;49;00m\u001b[39m\\n\u001b[39;49;00m\u001b[39m        self.wait()\u001b[39;49m\u001b[39m\\n\u001b[39;49;00m\u001b[39m\\n\u001b[39;49;00m\u001b[39m        self.play(right_charge_pos.animate.set_value(2))\u001b[39;49m\u001b[39m\\n\u001b[39;49;00m\u001b[39m        self.wait()\u001b[39;49m\u001b[39m\\n\u001b[39;49;00m\u001b[39m        self.play(right_charge_pos.animate.set_value(0))\u001b[39;49m\u001b[39m\\n\u001b[39;49;00m\u001b[39m        self.wait()\u001b[39;49m\u001b[39m\\n\u001b[39;49;00m\u001b[39m        self.play(right_charge_pos.animate.set_value(-4))\u001b[39;49m\u001b[39m\\n\u001b[39;49;00m\u001b[39m        self.wait()\u001b[39;49m\u001b[39m\\n\u001b[39;49;00m\u001b[39m        self.play(right_charge_pos.animate.set_value(-5))\u001b[39;49m\u001b[39m\\n\u001b[39;49;00m\u001b[39m        self.wait()\u001b[39;49m\u001b[39m\\n\u001b[39;49;00m\u001b[39m\\n\u001b[39;49;00m\u001b[39m        charge_graph = ax.plot(get_pe, (0.15, 2.5)).set_color(ELECTRIC_PE_COLOR)\u001b[39;49m\u001b[39m\\n\u001b[39;49;00m\u001b[39m        self.play(FadeIn(charge_graph), FadeOut(dot))\u001b[39;49m\u001b[39m\\n\u001b[39;49;00m\u001b[39m        self.remove(graph)\u001b[39;49m\u001b[39m\\n\u001b[39;49;00m\u001b[39m        self.wait()\u001b[39;49m\u001b[39m\\n\u001b[39;49;00m\u001b[39m\\n\u001b[39;49;00m\u001b[39m        self.play(FadeOut(arrow1), FadeOut(arrow2))\u001b[39;49m\u001b[39m\\n\u001b[39;49;00m\u001b[39m\\n\u001b[39;49;00m\u001b[39m        pe_equ = MathTex(r\u001b[39;49m\u001b[39m\"\u001b[39;49m\u001b[39mPE(r)=k\u001b[39;49m\u001b[39m\\\\\u001b[39;49;00m\u001b[39mfrac\u001b[39;49m\u001b[39m{\u001b[39;49m\u001b[39mq_1 q_2}\u001b[39;49m\u001b[39m{r}\u001b[39;49;00m\u001b[39m\"\u001b[39;49m\u001b[39m).next_to(ax.get_y_axis().get_tip(), RIGHT).shift(RIGHT * 0.5).set_color(ELECTRIC_PE_COLOR)\u001b[39;49m\u001b[39m\\n\u001b[39;49;00m\u001b[39m        self.play(ReplacementTransform(pe.copy(), pe_equ))\u001b[39;49m\u001b[39m\\n\u001b[39;49;00m\u001b[39m        self.wait()\u001b[39;49m\u001b[39m\\n\u001b[39;49;00m\u001b[39m\\n\u001b[39;49;00m\u001b[39m        self.remove(pe)\u001b[39;49m\u001b[39m\\n\u001b[39;49;00m\u001b[39m        pe = pe.get_updaters()[0]()\u001b[39;49m\u001b[39m\\n\u001b[39;49;00m\u001b[39m        self.add(pe)\u001b[39;49m\u001b[39m\\n\u001b[39;49;00m\u001b[39m        self.play(pe.animate.align_to_border(UP))\u001b[39;49m\u001b[39m\\n\u001b[39;49;00m\u001b[39m        \u001b[39;49m\u001b[39m\\n\u001b[39;49;00m\u001b[39m        full_pe_equ = MathTex(r\u001b[39;49m\u001b[39m\"\u001b[39;49m\u001b[39mPE_1=k \u001b[39;49m\u001b[39m\\\\\u001b[39;49;00m\u001b[39mfrac\u001b[39;49m\u001b[39m{\u001b[39;49m\u001b[39mq_1 q_2}\u001b[39;49m\u001b[39m{r}\u001b[39;49;00m\u001b[39m\"\u001b[39;49m\u001b[39m, \u001b[39;49m\u001b[39m\"\u001b[39;49m\u001b[39m=\u001b[39;49m\u001b[39m\"\u001b[39;49m\u001b[39m, r\u001b[39;49m\u001b[39m\"\u001b[39;49m\u001b[39mPE_2=k \u001b[39;49m\u001b[39m\\\\\u001b[39;49;00m\u001b[39mfrac\u001b[39;49m\u001b[39m{\u001b[39;49m\u001b[39mq_2 q_1}\u001b[39;49m\u001b[39m{r}\u001b[39;49;00m\u001b[39m\"\u001b[39;49m\u001b[39m)\u001b[39;49m\u001b[39m\\n\u001b[39;49;00m\u001b[39m        self.play(\u001b[39;49m\u001b[39m\\n\u001b[39;49;00m\u001b[39m            FadeIn(arrow1),\u001b[39;49m\u001b[39m\\n\u001b[39;49;00m\u001b[39m            FadeIn(full_pe_equ[0])\u001b[39;49m\u001b[39m\\n\u001b[39;49;00m\u001b[39m        )\u001b[39;49m\u001b[39m\\n\u001b[39;49;00m\u001b[39m        self.wait()\u001b[39;49m\u001b[39m\\n\u001b[39;49;00m\u001b[39m        self.play(\u001b[39;49m\u001b[39m\\n\u001b[39;49;00m\u001b[39m            FadeOut(arrow1),\u001b[39;49m\u001b[39m\\n\u001b[39;49;00m\u001b[39m            FadeIn(arrow2),\u001b[39;49m\u001b[39m\\n\u001b[39;49;00m\u001b[39m            FadeIn(full_pe_equ[2])\u001b[39;49m\u001b[39m\\n\u001b[39;49;00m\u001b[39m        )\u001b[39;49m\u001b[39m\\n\u001b[39;49;00m\u001b[39m'\u001b[39;49m)\n",
      "File \u001b[1;32md:\\Repositories\\ElectricCircuitsManim\\vcircuits\\lib\\site-packages\\IPython\\core\\interactiveshell.py:2358\u001b[0m, in \u001b[0;36mInteractiveShell.run_cell_magic\u001b[1;34m(self, magic_name, line, cell)\u001b[0m\n\u001b[0;32m   2356\u001b[0m \u001b[39mwith\u001b[39;00m \u001b[39mself\u001b[39m\u001b[39m.\u001b[39mbuiltin_trap:\n\u001b[0;32m   2357\u001b[0m     args \u001b[39m=\u001b[39m (magic_arg_s, cell)\n\u001b[1;32m-> 2358\u001b[0m     result \u001b[39m=\u001b[39m fn(\u001b[39m*\u001b[39margs, \u001b[39m*\u001b[39m\u001b[39m*\u001b[39mkwargs)\n\u001b[0;32m   2359\u001b[0m \u001b[39mreturn\u001b[39;00m result\n",
      "File \u001b[1;32md:\\Repositories\\ElectricCircuitsManim\\vcircuits\\lib\\site-packages\\manim\\utils\\ipython_magic.py:148\u001b[0m, in \u001b[0;36mManimMagic.manim\u001b[1;34m(self, line, cell, local_ns)\u001b[0m\n\u001b[0;32m    146\u001b[0m     SceneClass \u001b[39m=\u001b[39m local_ns[config[\u001b[39m\"\u001b[39m\u001b[39mscene_names\u001b[39m\u001b[39m\"\u001b[39m][\u001b[39m0\u001b[39m]]\n\u001b[0;32m    147\u001b[0m     scene \u001b[39m=\u001b[39m SceneClass(renderer\u001b[39m=\u001b[39mrenderer)\n\u001b[1;32m--> 148\u001b[0m     scene\u001b[39m.\u001b[39;49mrender()\n\u001b[0;32m    149\u001b[0m \u001b[39mfinally\u001b[39;00m:\n\u001b[0;32m    150\u001b[0m     \u001b[39m# Shader cache becomes invalid as the context is destroyed\u001b[39;00m\n\u001b[0;32m    151\u001b[0m     shader_program_cache\u001b[39m.\u001b[39mclear()\n",
      "File \u001b[1;32md:\\Repositories\\ElectricCircuitsManim\\vcircuits\\lib\\site-packages\\manim\\scene\\scene.py:222\u001b[0m, in \u001b[0;36mScene.render\u001b[1;34m(self, preview)\u001b[0m\n\u001b[0;32m    220\u001b[0m \u001b[39mself\u001b[39m\u001b[39m.\u001b[39msetup()\n\u001b[0;32m    221\u001b[0m \u001b[39mtry\u001b[39;00m:\n\u001b[1;32m--> 222\u001b[0m     \u001b[39mself\u001b[39;49m\u001b[39m.\u001b[39;49mconstruct()\n\u001b[0;32m    223\u001b[0m \u001b[39mexcept\u001b[39;00m EndSceneEarlyException:\n\u001b[0;32m    224\u001b[0m     \u001b[39mpass\u001b[39;00m\n",
      "File \u001b[1;32m<string>:253\u001b[0m, in \u001b[0;36mconstruct\u001b[1;34m(self)\u001b[0m\n",
      "\u001b[1;31mTypeError\u001b[0m: always_redraw.<locals>.<lambda>() missing 1 required positional argument: 'm'"
     ]
    }
   ],
   "source": [
    "%%manim -v WARNING -ql ElectricPotentialEnergy\n",
    "\n",
    "class ElectricPotentialEnergy(Scene):\n",
    "    def construct(self):\n",
    "        max_pe = 1000\n",
    "        line1_pos = ValueTracker(-6)\n",
    "        line2_pos = ValueTracker(-4)\n",
    "        line3_pos = ValueTracker(-2)\n",
    "        def get_updater(tracker):\n",
    "            return lambda m, dt: m.move_to(tracker.get_value() * RIGHT)\n",
    "        line1 = Line(DOWN, UP)\n",
    "        line1.add_updater(get_updater(line1_pos), call_updater=True)\n",
    "        line2 = Line(DOWN / 2, UP / 2)\n",
    "        line2.add_updater(get_updater(line2_pos), call_updater=True)\n",
    "        line3 = Line(DOWN, UP)\n",
    "        line3.add_updater(get_updater(line3_pos), call_updater=True)\n",
    "\n",
    "        \n",
    "        spring1 = always_redraw(lambda: InductorElement(\n",
    "            line1.get_midpoint(),\n",
    "            line2.get_midpoint(),\n",
    "            0.5, 4, 0.5\n",
    "        ))\n",
    "        spring2 = always_redraw(lambda: InductorElement(\n",
    "            line2.get_midpoint(),\n",
    "            line3.get_midpoint(),\n",
    "            0.5, 4, 0.5\n",
    "        ))\n",
    "\n",
    "        arrow1 = Arrow(LEFT, RIGHT).scale(0.5).next_to(spring1, LEFT).set_color(BLUE)\n",
    "        arrow2 = Arrow(RIGHT, LEFT).scale(0.5).next_to(spring2, RIGHT).set_color(BLUE)\n",
    "\n",
    "        spring_size = 1\n",
    "        equ_length = 2\n",
    "        k = 1000\n",
    "        def get_dx1():\n",
    "            dx1 = line2_pos.get_value() - line1_pos.get_value() - equ_length\n",
    "            dx1 *= spring_size / equ_length\n",
    "            return dx1\n",
    "        def get_dx2():\n",
    "            dx2 = line3_pos.get_value() - line2_pos.get_value() - equ_length\n",
    "            dx2 *= spring_size / equ_length\n",
    "            return dx2\n",
    "\n",
    "        def get_pe(dx=None):\n",
    "            if dx is None:\n",
    "                dx1 = get_dx1()\n",
    "                dx2 = get_dx2()\n",
    "            else:\n",
    "                dx1 = dx2 = dx / 2 - spring_size\n",
    "            pe1 = 0.5 * k * dx1 ** 2\n",
    "            pe2 = 0.5 * k * dx2 ** 2\n",
    "            return pe1 + pe2\n",
    "        pe = always_redraw(lambda: MathTex(\"PE=\" + str(round(get_pe(), 1)) + \"J\").shift(UP * 1.5).align_to(LEFT * 5, LEFT))\n",
    "\n",
    "        tracker_size = 0.3\n",
    "        line4 = always_redraw(lambda: Line(ORIGIN, DOWN * tracker_size).next_to(line1, DOWN))\n",
    "        line5 = always_redraw(lambda: Line(ORIGIN, DOWN * tracker_size).next_to(line3, DOWN))\n",
    "        line6 = always_redraw(lambda: DashedLine(line4.get_midpoint(), line5.get_midpoint()))\n",
    "        dx_tracker = always_redraw(\n",
    "            lambda: MathTex(f\"r={round((line3_pos.get_value() - line2_pos.get_value()) * 2 * spring_size / equ_length, 1)}\").next_to(line6, DOWN)\n",
    "        )\n",
    "        \n",
    "        self.add(spring1, spring2, line1, line2, line3, arrow1, arrow2, pe, line4, line5, line6, dx_tracker)\n",
    "\n",
    "        # Graph\n",
    "        ax = Axes(\n",
    "            (0, 2.4, 0.4),\n",
    "            (0, 1200, 100),\n",
    "            x_length=6,\n",
    "            y_length=6,\n",
    "            x_axis_config={\n",
    "                \"include_numbers\": True\n",
    "            },\n",
    "            y_axis_config={\n",
    "                \"include_numbers\": True,\n",
    "                \"numbers_to_exclude\": [1100]\n",
    "            }\n",
    "        ).align_to(ORIGIN, LEFT)\n",
    "        x_label = Text(\"r\").scale(0.7).next_to(ax.get_x_axis().get_tip(), DOWN)\n",
    "        y_label = Text(\"PE(J)\").scale(0.7).next_to(ax.get_y_axis().get_tip(), LEFT)\n",
    "        # ax.plot(lambda dx: get_pe(dx), (line3_pos.get_value() - line2_pos.get_value(), 1))\n",
    "        def graph_generator():\n",
    "            graph = ParametricFunction(\n",
    "                lambda t: ax.coords_to_point(t, get_pe(t)),\n",
    "                t_range=np.array([(line3_pos.get_value() - line1_pos.get_value()) * spring_size / equ_length, 2]),\n",
    "                scaling=ax.x_axis.scaling\n",
    "            )\n",
    "            graph.underlying_function = get_pe\n",
    "            return graph.set_color(SPRING_PE_COLOR)\n",
    "        graph = always_redraw(graph_generator)\n",
    "        dot = always_redraw(lambda: Dot(ax.coords_to_point(\n",
    "            (line3_pos.get_value() - line1_pos.get_value()) * spring_size / equ_length,\n",
    "            get_pe((line3_pos.get_value() - line1_pos.get_value()) * spring_size / equ_length)\n",
    "        ), color=YELLOW_A))\n",
    "        \n",
    "        self.add(ax, x_label, y_label, graph, dot)\n",
    "        [\n",
    "            mob.add_updater(lambda m: m.set_color(interpolate_color(WHITE, SPRING_PE_COLOR, get_pe() / max_pe)))\n",
    "            for mob in (line1, line2, line3, spring1, spring2)\n",
    "        ]\n",
    "\n",
    "        self.wait()\n",
    "\n",
    "        arrow1.new = always_redraw(\n",
    "            lambda: Arrow(ORIGIN, LEFT * -get_dx1(), buff=0)\n",
    "            .align_to(line1, RIGHT)\n",
    "            .set_color(SPRING_PE_COLOR)\n",
    "        )\n",
    "        arrow2.new = always_redraw(\n",
    "            lambda: Arrow(ORIGIN, RIGHT * -get_dx2(), buff=0)\n",
    "            .align_to(line3, LEFT)\n",
    "            .set_color(SPRING_PE_COLOR)\n",
    "        )\n",
    "        self.play(\n",
    "            ReplacementTransform(arrow1, arrow1.new),\n",
    "            ReplacementTransform(arrow2, arrow2.new)\n",
    "        )\n",
    "        arrow1 = arrow1.new\n",
    "        arrow2 = arrow2.new\n",
    "\n",
    "        self.wait()\n",
    "\n",
    "        self.play(\n",
    "            line1_pos.animate.set_value(-5),\n",
    "            line3_pos.animate.set_value(-3)\n",
    "        )\n",
    "        self.wait()\n",
    "\n",
    "        self.play(\n",
    "            line1_pos.animate.set_value(-4.5),\n",
    "            line3_pos.animate.set_value(-3.5)\n",
    "        )\n",
    "        self.wait()\n",
    "\n",
    "        spring_graph = ax.plot(get_pe, (0, 2)).set_color(SPRING_PE_COLOR)\n",
    "        self.play(\n",
    "            *[FadeOut(mob) for mob in \n",
    "            (line1, line2, line3, line4, line5, line6, dx_tracker, spring1, spring2, arrow1, arrow2, pe)],\n",
    "            FadeIn(spring_graph)\n",
    "        )\n",
    "        self.remove(graph, dot)\n",
    "\n",
    "        self.wait()\n",
    "\n",
    "        # Electric PE\n",
    "        max_pe = 1000\n",
    "        k = 250\n",
    "        q1 = 1\n",
    "        q2 = 1\n",
    "        right_charge_pos = ValueTracker(-2)\n",
    "        left_charge_pos = ValueTracker(-6)\n",
    "        scale = 4/1.2\n",
    "        def get_r():\n",
    "            return (right_charge_pos.get_value() - left_charge_pos.get_value()) / scale\n",
    "        def get_pe(r=None):\n",
    "            if r is None:\n",
    "                r = get_r()\n",
    "            return k * q1 * q2 / r\n",
    "        def get_f(r=None):\n",
    "            if r is None:\n",
    "                r = get_r()\n",
    "            return q1 * q2 / r ** 2\n",
    "\n",
    "        left_charge = VGroup(\n",
    "            Circle(radius=0.3, fill_opacity=1),\n",
    "            Text(\"+\").move_to(ORIGIN)\n",
    "        )\n",
    "        left_charge.add_updater(lambda m, dt=0:\n",
    "            m.move_to(left_charge_pos.get_value() * RIGHT)[0].set_color(interpolate_color(BLUE_C, ELECTRIC_PE_COLOR, get_pe() / max_pe))\n",
    "            ,\n",
    "            call_updater=True\n",
    "        )\n",
    "        right_charge = VGroup(\n",
    "            Circle(radius=0.3, fill_opacity=1),\n",
    "            Text(\"+\").move_to(ORIGIN)\n",
    "        )\n",
    "        right_charge.add_updater(lambda m, dt=0:\n",
    "            m.move_to(right_charge_pos.get_value() * RIGHT)[0].set_color(interpolate_color(BLUE_C, ELECTRIC_PE_COLOR, get_pe() / max_pe))\n",
    "            ,\n",
    "            call_updater=True\n",
    "        )\n",
    "        arrow1 = always_redraw(\n",
    "            lambda: Arrow(ORIGIN, LEFT * get_f(), buff=0)\n",
    "            .align_to(left_charge.get_left(), RIGHT)\n",
    "            .set_color(ELECTRIC_PE_COLOR)\n",
    "        )\n",
    "        arrow2 = always_redraw(\n",
    "            lambda: Arrow(ORIGIN, RIGHT * get_f(), buff=0)\n",
    "            .align_to(right_charge.get_right(), LEFT)\n",
    "            .set_color(ELECTRIC_PE_COLOR)\n",
    "        )\n",
    "\n",
    "        pe = always_redraw(lambda: MathTex(\"PE=\" + str(round(get_pe(), 1)) + \"J\").shift(UP * 1.5).align_to(LEFT * 5, LEFT))\n",
    "\n",
    "        tracker_size = 0.3\n",
    "        line4 = always_redraw(lambda: Line(ORIGIN, DOWN * tracker_size).next_to(left_charge, DOWN))\n",
    "        line5 = always_redraw(lambda: Line(ORIGIN, DOWN * tracker_size).next_to(right_charge, DOWN))\n",
    "        line6 = always_redraw(lambda: DashedLine(line4.get_midpoint(), line5.get_midpoint()))\n",
    "        dx_tracker = always_redraw(\n",
    "            lambda: MathTex(f\"r={round(get_r(), 1)}\").next_to(line6, DOWN)\n",
    "        )\n",
    "        \n",
    "        # Graph\n",
    "        dx_range = [get_r(), get_r()]\n",
    "        def graph_generator():\n",
    "            r = get_r()\n",
    "            if r < dx_range[0]:\n",
    "                dx_range[0] = r\n",
    "            if r > dx_range[1]:\n",
    "                dx_range[1] = r\n",
    "            graph = ParametricFunction(\n",
    "                lambda t: ax.coords_to_point(t, get_pe(t)),\n",
    "                t_range=np.array(dx_range),\n",
    "                scaling=ax.x_axis.scaling\n",
    "            )\n",
    "            graph.underlying_function = get_pe\n",
    "            return graph.set_color(ELECTRIC_PE_COLOR)\n",
    "        graph = always_redraw(graph_generator)\n",
    "        dot = always_redraw(lambda: Dot(\n",
    "            ax.coords_to_point(get_r(), get_pe())\n",
    "        ).set_color(BLUE_B))\n",
    "        self.add(dot)\n",
    "\n",
    "\n",
    "        self.play(\n",
    "            *[FadeIn(mob) for mob in \n",
    "            (left_charge, right_charge, line4, line5, line6, dx_tracker, pe, dot, graph, arrow1, arrow2)]\n",
    "        )\n",
    "\n",
    "        self.wait()\n",
    "\n",
    "        self.play(right_charge_pos.animate.set_value(2))\n",
    "        self.wait()\n",
    "        self.play(right_charge_pos.animate.set_value(0))\n",
    "        self.wait()\n",
    "        self.play(right_charge_pos.animate.set_value(-4))\n",
    "        self.wait()\n",
    "        self.play(right_charge_pos.animate.set_value(-5))\n",
    "        self.wait()\n",
    "\n",
    "        charge_graph = ax.plot(get_pe, (0.15, 2.5)).set_color(ELECTRIC_PE_COLOR)\n",
    "        self.play(FadeIn(charge_graph), FadeOut(dot))\n",
    "        self.remove(graph)\n",
    "        self.wait()\n",
    "\n",
    "        self.play(FadeOut(arrow1), FadeOut(arrow2))\n",
    "\n",
    "        pe_equ = MathTex(r\"PE(r)=k\\frac{q_1 q_2}{r}\").next_to(ax.get_y_axis().get_tip(), RIGHT).shift(RIGHT * 0.5).set_color(ELECTRIC_PE_COLOR)\n",
    "        self.play(ReplacementTransform(pe.copy(), pe_equ))\n",
    "        self.wait()\n",
    "\n",
    "        self.remove(pe)\n",
    "        pe = pe.get_updaters()[0]()\n",
    "        self.add(pe)\n",
    "        self.play(pe.animate.align_to_border(UP))\n",
    "        \n",
    "        full_pe_equ = MathTex(r\"PE_1=k \\frac{q_1 q_2}{r}\", \"=\", r\"PE_2=k \\frac{q_2 q_1}{r}\")\n",
    "        self.play(\n",
    "            FadeIn(arrow1),\n",
    "            FadeIn(full_pe_equ[0])\n",
    "        )\n",
    "        self.wait()\n",
    "        self.play(\n",
    "            FadeOut(arrow1),\n",
    "            FadeIn(arrow2),\n",
    "            FadeIn(full_pe_equ[2])\n",
    "        )\n"
   ]
  },
  {
   "cell_type": "code",
   "execution_count": 6,
   "metadata": {},
   "outputs": [
    {
     "name": "stderr",
     "output_type": "stream",
     "text": [
      "                                                                                                      \r"
     ]
    },
    {
     "data": {
      "text/html": [
       "<video src=\"media\\jupyter\\Foolery@2022-06-18@22-39-49.mp4\" controls autoplay loop style=\"max-width: 60%;\"  >\n",
       "      Your browser does not support the <code>video</code> element.\n",
       "    </video>"
      ],
      "text/plain": [
       "<IPython.core.display.Video object>"
      ]
     },
     "metadata": {},
     "output_type": "display_data"
    }
   ],
   "source": [
    "%%manim -v WARNING -ql Foolery\n",
    "\n",
    "class Foolery(Scene):\n",
    "    def construct(self):\n",
    "        tex = MathTex(\"Hello\", \" World\")\n",
    "        self.play(FadeIn(tex[0]))\n",
    "        self.wait()\n",
    "        self.play(FadeIn(tex[1]))\n",
    "        self.wait()\n",
    "        self.play(tex.animate.shift(UP))\n",
    "        self.wait()\n"
   ]
  },
  {
   "cell_type": "code",
   "execution_count": 8,
   "metadata": {},
   "outputs": [
    {
     "name": "stdout",
     "output_type": "stream",
     "text": [
      "[0.   0.01 0.02 0.03 0.04 0.05 0.06 0.07 0.08 0.09 0.1  0.11 0.12 0.13\n",
      " 0.14 0.15 0.16]\n"
     ]
    },
    {
     "name": "stderr",
     "output_type": "stream",
     "text": [
      "C:\\Users\\brian\\AppData\\Local\\Temp\\ipykernel_16396\\2122160573.py:15: RuntimeWarning: divide by zero encountered in double_scalars\n",
      "  return k * q1 * q2 / r\n"
     ]
    },
    {
     "data": {
      "image/png": "[encoded data removed]",
      "text/plain": [
       "<Figure size 432x288 with 1 Axes>"
      ]
     },
     "metadata": {
      "needs_background": "light"
     },
     "output_type": "display_data"
    }
   ],
   "source": [
    "def fun():\n",
    "    import matplotlib.pyplot as plt\n",
    "    max_pe = 1000\n",
    "    k = 250\n",
    "    q1 = 1\n",
    "    q2 = 1\n",
    "    right_charge_pos = ValueTracker(-2)\n",
    "    left_charge_pos = ValueTracker(-6)\n",
    "    scale = 4/1.2\n",
    "    def get_r():\n",
    "        return (right_charge_pos.get_value() - left_charge_pos.get_value()) / scale\n",
    "    def get_pe(r=None):\n",
    "        if r is None:\n",
    "            r = get_r()\n",
    "        return k * q1 * q2 / r\n",
    "    rs = np.arange(0, 2, 0.01)\n",
    "    ys = np.array([get_pe(r) for r in rs])\n",
    "    print(rs[np.where(ys > 1500)])\n",
    "    plt.plot(rs, ys)\n",
    "fun()\n"
   ]
  },
  {
   "cell_type": "code",
   "execution_count": 66,
   "metadata": {},
   "outputs": [
    {
     "data": {
      "image/png": "[encoded data removed]",
      "text/plain": [
       "<IPython.core.display.Image object>"
      ]
     },
     "metadata": {},
     "output_type": "display_data"
    }
   ],
   "source": [
    "%%manim -v WARNING -qm Foolery\n",
    "\n",
    "class Foolery(Scene):\n",
    "    def construct(self):\n",
    "        circles = VGroup(\n",
    "            *[Circle(radius=0.5, fill_opacity=1).set_color(color) for color in\n",
    "            (BLUE, BLUE_A, BLUE_B, BLUE_C, BLUE_D, BLUE_E, DARK_BLUE, PURE_BLUE)]\n",
    "        ).arrange(RIGHT)\n",
    "        self.add(circles)\n"
   ]
  },
  {
   "cell_type": "code",
   "execution_count": 7,
   "metadata": {},
   "outputs": [
    {
     "name": "stderr",
     "output_type": "stream",
     "text": [
      "                                                                                            \r"
     ]
    },
    {
     "data": {
      "text/html": [
       "<video src=\"media\\jupyter\\Foolery2@2022-06-19@21-19-57.mp4\" controls autoplay loop style=\"max-width: 60%;\"  >\n",
       "      Your browser does not support the <code>video</code> element.\n",
       "    </video>"
      ],
      "text/plain": [
       "<IPython.core.display.Video object>"
      ]
     },
     "metadata": {},
     "output_type": "display_data"
    }
   ],
   "source": [
    "%%manim -v WARNING -ql Foolery2\n",
    "\n",
    "class Foolery2(Scene):\n",
    "    def construct(self):\n",
    "        alpha = ValueTracker(0)\n",
    "        circle1 = always_redraw(lambda: Circle(radius=2, fill_opacity=1).set_color((RED, interpolate_color(RED, BLACK, alpha.get_value()), BLACK)).shift(LEFT * 2))\n",
    "        circle2 = Circle(radius=2, fill_opacity=1, color=RED).shift(RIGHT * 2)\n",
    "        circle1.radial_gradient = True\n",
    "        circle2.radial_gradient = True\n",
    "        self.add(circle1, circle2)\n",
    "        self.play(alpha.animate.set_value(1), rate_func=linear)\n",
    "        self.play(alpha.animate.set_value(0), rate_func=linear)\n",
    "        \n"
   ]
  },
  {
   "cell_type": "code",
   "execution_count": 8,
   "metadata": {},
   "outputs": [
    {
     "name": "stdout",
     "output_type": "stream",
     "text": [
      "(16.0, array([4., 0., 0.])) (17.096622711232154, array([-3.56890761, -2.08794664,  0.        ]))\n"
     ]
    }
   ],
   "source": [
    "def myfun():\n",
    "    circle = Circle(radius=4, fill_opacity=1)\n",
    "    radius = [(np.dot(point - circle.get_center(), point - circle.get_center()), point) for point in circle.points]\n",
    "    radius.sort(key=lambda o: o[0])\n",
    "    print(radius[0], radius[-1])\n",
    "myfun()"
   ]
  }
 ],
 "metadata": {
  "interpreter": {
   "hash": "798f3a720154128f5f43200308544b796fe8b1722793bebf5b81a9097641f441"
  },
  "kernelspec": {
   "display_name": "Python 3.10.4 ('vcircuits': venv)",
   "language": "python",
   "name": "python3"
  },
  "language_info": {
   "codemirror_mode": {
    "name": "ipython",
    "version": 3
   },
   "file_extension": ".py",
   "mimetype": "text/x-python",
   "name": "python",
   "nbconvert_exporter": "python",
   "pygments_lexer": "ipython3",
   "version": "3.10.4"
  },
  "orig_nbformat": 4
 },
 "nbformat": 4,
 "nbformat_minor": 2
}
