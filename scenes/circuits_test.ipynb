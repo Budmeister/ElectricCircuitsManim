{
 "cells": [
  {
   "cell_type": "code",
   "execution_count": 1,
   "metadata": {},
   "outputs": [
    {
     "data": {
      "text/html": [
       "<pre style=\"white-space:pre;overflow-x:auto;line-height:normal;font-family:Menlo,'DejaVu Sans Mono',consolas,'Courier New',monospace\">Manim Community <span style=\"color: #008000; text-decoration-color: #008000\">v0.15.2</span>\n",
       "\n",
       "</pre>\n"
      ],
      "text/plain": [
       "Manim Community \u001b[32mv0.\u001b[0m\u001b[32m15.2\u001b[0m\n",
       "\n"
      ]
     },
     "metadata": {},
     "output_type": "display_data"
    }
   ],
   "source": [
    "\n",
    "from circuits.circuit_mobjects import *\n",
    "import circuits.theoretical as tl\n",
    "# from get_circuits import *\n",
    "# import ElectricCircuitsManim.circuits as circuits\n",
    "from manim import *"
   ]
  },
  {
   "cell_type": "code",
   "execution_count": 2,
   "metadata": {},
   "outputs": [
    {
     "name": "stderr",
     "output_type": "stream",
     "text": [
      "                                                                                              \r"
     ]
    },
    {
     "data": {
      "text/html": [
       "<video src=\"media\\jupyter\\CircuitsTest2@2022-06-10@17-07-32.mp4\" controls autoplay loop style=\"max-width: 60%;\"  >\n",
       "      Your browser does not support the <code>video</code> element.\n",
       "    </video>"
      ],
      "text/plain": [
       "<IPython.core.display.Video object>"
      ]
     },
     "metadata": {},
     "output_type": "display_data"
    }
   ],
   "source": [
    "%%manim -v WARNING -qm --flush_cache CircuitsTest2 \n",
    "\n",
    "class CircuitsTest2(Scene):\n",
    "    def construct(self):\n",
    "        circuit = tl.ACCircuit(nodes=9, w=1)\n",
    "        circuit.add(tl.Wire(0, 1))\n",
    "        circuit.add(tl.Wire(1, 2))\n",
    "        circuit.add(tl.IndependantVoltage(v=5, head=3, tail=0))\n",
    "        # circuit.add(tl.Resistor(r=1, head=4, tail=1))\n",
    "        # circuit.add(tl.Inductor(l=1, head=4, tail=1))\n",
    "        circuit.add(tl.Capacitor(c=1, head=4, tail=1))\n",
    "        circuit.add(tl.IndependantVoltage(v=4, head=5, tail=2))\n",
    "        circuit.add(tl.Inductor(l=5, head=3, tail=4))\n",
    "        circuit.add(tl.Resistor(r=2, head=4, tail=5))\n",
    "        circuit.add(tl.Resistor(r=4, head=6, tail=3))\n",
    "        circuit.add(tl.Resistor(r=3, head=7, tail=4))\n",
    "        circuit.add(tl.DependantVoltage(a=3, dplus=4, dminus=1, head=8, tail=5))\n",
    "        circuit.add(tl.Wire(head=6, tail=7))\n",
    "        circuit.add(tl.IndependantVoltage(v=6, head=8, tail=7))\n",
    "\n",
    "        circuit.nodal_analysis()\n",
    "        circuit.calculate_currents()\n",
    "\n",
    "        cmob_circuit = circuit.get_mobjects(\n",
    "            [\n",
    "                2 * LEFT + 2 * DOWN,\n",
    "                2 * DOWN,\n",
    "                2 * RIGHT + 2 * DOWN,\n",
    "                2 * LEFT,\n",
    "                ORIGIN,\n",
    "                2 * RIGHT,\n",
    "                2 * UP + 2 * LEFT,\n",
    "                2 * UP,\n",
    "                2 * UP + 2 * RIGHT\n",
    "            ], mob_kwargs={\n",
    "                (0, 3): {\"label\": \"5V\", \"reverse_label\": True},\n",
    "                (1, 4): {\"label\": \"1Ω\"},\n",
    "                (2, 5): {\"label\": \"4V\"},\n",
    "                (3, 4): {\"label\": \"5Ω\"},\n",
    "                (4, 5): {\"label\": \"2Ω\"},\n",
    "                (3, 6): {\"label\": \"4Ω\", \"reverse_label\": True},\n",
    "                (4, 7): {\"label\": \"3Ω\", \"reverse_label\": True},\n",
    "                (5, 8): {\"label\": \"3x\"},\n",
    "                (7, 8): {\"label\": \"6V\", \"reverse_label\": True}\n",
    "            },\n",
    "            do_colored_voltage=True\n",
    "        )\n",
    "\n",
    "        timer = cmob_circuit.get_timer()\n",
    "        cmobjects = cmob_circuit.get_circuit_mobjects()\n",
    "        currents = cmob_circuit.get_current_mobjects()\n",
    "\n",
    "        time = 2 * np.pi\n",
    "        self.add(cmobjects, currents)\n",
    "        # self.play(Create(cmobjects), Create(currents), run_time=2)\n",
    "        self.play(timer.animate.set_value(time), run_time=time, rate_func=linear)\n",
    "        # self.wait()\n"
   ]
  },
  {
   "cell_type": "code",
   "execution_count": 4,
   "metadata": {},
   "outputs": [
    {
     "name": "stderr",
     "output_type": "stream",
     "text": [
      "                                                                                               \r"
     ]
    },
    {
     "data": {
      "text/html": [
       "<video src=\"media\\jupyter\\CircuitsTest1@2022-05-30@17-28-56.mp4\" controls autoplay loop style=\"max-width: 60%;\"  >\n",
       "      Your browser does not support the <code>video</code> element.\n",
       "    </video>"
      ],
      "text/plain": [
       "<IPython.core.display.Video object>"
      ]
     },
     "metadata": {},
     "output_type": "display_data"
    }
   ],
   "source": [
    "%%manim -v WARNING -qm CircuitsTest1\n",
    "\n",
    "class CircuitsTest1(Scene):\n",
    "    def construct(self):\n",
    "        line1 = Inductor(LEFT + DOWN, LEFT + UP, label=\"L\", reverse_label=True)\n",
    "        line2 = Capacitor(LEFT + UP, RIGHT + UP, label=\"C\")\n",
    "        line3 = Resistor(RIGHT + UP, RIGHT + DOWN, label=\"R\")\n",
    "        line4 = IndependantVoltage(RIGHT + DOWN, LEFT + DOWN, label=\"V\")\n",
    "\n",
    "        lines = VGroup(line1, line2, line3, line4)\n",
    "        self.play(*[Create(line) for line in lines], run_time=2)\n",
    "        self.play(line1.animate.set_reverse_label(False))\n",
    "        # self.play(FadeIn(lines))\n",
    "        # self.play(Create(lines), run_time=5)\n",
    "        self.wait()"
   ]
  },
  {
   "cell_type": "code",
   "execution_count": 18,
   "metadata": {},
   "outputs": [
    {
     "data": {
      "image/png": "[encoded data removed]",
      "text/plain": [
       "<IPython.core.display.Image object>"
      ]
     },
     "metadata": {},
     "output_type": "display_data"
    }
   ],
   "source": [
    "%%manim -v WARNING -qm Foolery3\n",
    "\n",
    "def interpolate_color_with_midpoint(color1, color2, midpoint, midpoint_val, alpha):\n",
    "    if alpha < midpoint_val:\n",
    "        return interpolate_color(color1, midpoint, alpha / midpoint_val)\n",
    "    else:\n",
    "        return interpolate_color(midpoint, color2, (alpha - midpoint_val) / (1 - midpoint_val))\n",
    "\n",
    "class Foolery3(Scene):\n",
    "    def construct(self):\n",
    "        # resistor = ResistorElement(LEFT, RIGHT, 0.5, 6)\n",
    "        resistor = Line(UP + RIGHT, DOWN + LEFT, sheen_direction=UP + RIGHT)\n",
    "        # resistor = Resistor(RIGHT, LEFT, do_colored_voltage=True, base_v=0, diff_v=1)\n",
    "        resistor.set_color((RED, GREEN))\n",
    "        self.add(resistor)\n"
   ]
  },
  {
   "cell_type": "code",
   "execution_count": 11,
   "metadata": {},
   "outputs": [
    {
     "name": "stderr",
     "output_type": "stream",
     "text": [
      "                                                                                 \r"
     ]
    },
    {
     "data": {
      "text/html": [
       "<video src=\"media\\jupyter\\Foolery4@2022-05-28@14-03-20.mp4\" controls autoplay loop style=\"max-width: 60%;\"  >\n",
       "      Your browser does not support the <code>video</code> element.\n",
       "    </video>"
      ],
      "text/plain": [
       "<IPython.core.display.Video object>"
      ]
     },
     "metadata": {},
     "output_type": "display_data"
    }
   ],
   "source": [
    "%%manim -v WARNING -qm Foolery4\n",
    "\n",
    "class Foolery4(Scene):\n",
    "    def construct(self):\n",
    "        x = ValueTracker(-0.5)\n",
    "        arrow = Arrow()\n",
    "        arrow.add_updater(lambda a: a.move_to(x.get_value() * RIGHT))\n",
    "\n",
    "        label = Text(\"I\")\n",
    "        label.add_updater(lambda l: l.next_to(arrow, UP))\n",
    "\n",
    "        self.play(FadeIn(arrow), FadeIn(label), x.animate.set_value(0))\n",
    "        self.wait()\n",
    "\n",
    "        self.clear()\n",
    "\n",
    "        x.set_value(-0.5)\n",
    "\n",
    "        arrow = Arrow(DOWN, UP)\n",
    "        arrow.add_updater(lambda a: a.move_to(x.get_value() * UP))\n",
    "\n",
    "        label = Text(\"I\")\n",
    "        label.add_updater(lambda l: l.next_to(arrow, RIGHT))\n",
    "\n",
    "        self.play(FadeIn(arrow), FadeIn(label), x.animate.set_value(0))\n",
    "        self.wait()\n"
   ]
  },
  {
   "cell_type": "code",
   "execution_count": null,
   "metadata": {},
   "outputs": [],
   "source": [
    "from scipy.integrate import solve_ivp"
   ]
  },
  {
   "cell_type": "markdown",
   "metadata": {},
   "source": [
    "Nodal Analysis Test"
   ]
  },
  {
   "cell_type": "code",
   "execution_count": 62,
   "metadata": {},
   "outputs": [
    {
     "data": {
      "text/plain": [
       "array([[  6.5],\n",
       "       [-30. ]])"
      ]
     },
     "execution_count": 62,
     "metadata": {},
     "output_type": "execute_result"
    }
   ],
   "source": [
    "x = 1\n",
    "w = 1\n",
    "A = 3\n",
    "\n",
    "# Constants\n",
    "N = 9\n",
    "V = 7\n",
    "I = 2\n",
    "S = 2\n",
    "\n",
    "r = np.array(\n",
    "    [[x],\n",
    "     [w]]\n",
    ")\n",
    "\n",
    "# y = np.array(\n",
    "#     [[x],\n",
    "#      [5],\n",
    "#      [4],\n",
    "#      [0],\n",
    "#      [0],\n",
    "#      [0],\n",
    "#      [0],\n",
    "#      [w],\n",
    "#      [6]]\n",
    "# )\n",
    "r_to_y = np.array(\n",
    "    [[1, 0],\n",
    "     [0, 0],\n",
    "     [0, 0],\n",
    "     [0, 0],\n",
    "     [0, 0],\n",
    "     [0, 0],\n",
    "     [0, 0],\n",
    "     [0, 1],\n",
    "     [0, 0]]\n",
    ")\n",
    "sources = np.array(\n",
    "    [[0],\n",
    "     [5],\n",
    "     [4],\n",
    "     [0],\n",
    "     [0],\n",
    "     [0],\n",
    "     [0],\n",
    "     [0],\n",
    "     [6]]\n",
    ")\n",
    "y = r_to_y @ r + sources\n",
    "\n",
    "\n",
    "G = np.array(\n",
    "    [[0, 0, 0, 0, 1, 0, 0, 0, 0],\n",
    "     [0, 0, 0, 1, 0, 0, 0, 0, 0],\n",
    "     [0, 0, 0, 0, 0, 1, 0, 0, 1],\n",
    "     [0, 0, 0, 0, 0, 0, 0, 0, 1],\n",
    "     [0, 0, 0, 0, 0, 0, 0, 1, 0],\n",
    "     [0, 1, 1, 0, 1, 1, 0, 0, 1],\n",
    "     [0, 0, 1, 0, 0, 1, 0, 0, 1]]\n",
    ")\n",
    "NA = np.array(\n",
    "    [[0, 0, 0, 0, 0, 0, 0, 0, 0],\n",
    "     [0, 0, 0, 0, 0, 0, 0, 0, 0],\n",
    "     [0, 0, 0, 0, 0, 0, 0, 0, 0],\n",
    "     [0, 0, 0, -1/4, 0, 0, 1/4, 0, 0],\n",
    "     [0, 0, 0, 0, -5/6, 1/2, 0, 1/3, 0],\n",
    "     [0, 0, 0, 0, 1/2, -1/2, 0, 0, 0],\n",
    "     [0, 0, 0, 1/4, 0, 0, -1/4, 0, 0],\n",
    "     [0, 0, 0, 0, 1/3, 0, 0, -1/3, 0],\n",
    "     [0, 0, 0, 0, 0, 0, 0, 0, 0]]\n",
    ")\n",
    "super_nodes = np.array(\n",
    "    [[1, 1, 1, 1, 1, 1, 0, 0, 1],\n",
    "     [0, 0, 0, 0, 0, 0, 1, 1, 0]]\n",
    ")\n",
    "\n",
    "D = np.array(\n",
    "    [[0, -1, 0, 0, 1, 0, 0, 0, 0],\n",
    "     [-1, 0, 0, 1, 0, 0, 0, 0, 0],\n",
    "     [0, 0, -1, 0, 0, 1, 0, 0, 0],\n",
    "     [0, A, 0, 0, -A, -1, 0, 0, 1],\n",
    "     [0, 0, 0, 0, 0, 0, -1, 1, 0],\n",
    "     [-1, 1, 0, 0, 0, 0, 0, 0, 0],\n",
    "     [0, -1, 1, 0, 0, 0, 0, 0, 0],\n",
    "     [0, 0, 0, -1/4, -1/3, 0, 1/4, 1/3, 0],\n",
    "     [1, 0, 0, 0, 0, 0, 0, 0, 0]]\n",
    ")\n",
    "\n",
    "# print(D)\n",
    "# print(D.shape)\n",
    "D_inv = np.linalg.inv(D)\n",
    "# print(D_inv)\n",
    "\n",
    "T = np.array(\n",
    "    [[0, 0],\n",
    "     [0, 0],\n",
    "     [0, 0],\n",
    "     [1, 0],\n",
    "     [-1, 0],\n",
    "     [0, 0],\n",
    "     [0, 0],\n",
    "     [0, 1],\n",
    "     [0, -1]]\n",
    ")\n",
    "Tprime = np.array(\n",
    "    [[0, -1]]\n",
    ")\n",
    "assert np.all(Tprime == (super_nodes @ T)[:-1])\n",
    "temp1 = np.identity(N)\n",
    "temp1[-2, -I:] = -Tprime\n",
    "temp1[-1, -1] = 0\n",
    "\n",
    "b = temp1 @ y\n",
    "k = D_inv @ b\n",
    "\n",
    "F = G @ NA\n",
    "Fprime = G @ T\n",
    "\n",
    "temp2 = np.concatenate((np.zeros((I, V)), np.identity(I)), axis=1)\n",
    "ibar = F @ k + Fprime @ temp2 @ y\n",
    "\n",
    "vbar = -T.T @ k\n",
    "vbar\n",
    "\n",
    "\n",
    "Rv = 1\n",
    "Ri = 1\n",
    "C = np.array([1])\n",
    "L = np.array([5])\n",
    "temp3 = np.zeros((Rv + Ri, Rv))\n",
    "temp4 = np.zeros((Ri, Ri))\n",
    "np.fill_diagonal(temp3, C)\n",
    "np.fill_diagonal(temp4, L)\n",
    "temp4 = np.concatenate((np.zeros((Rv, Ri)), temp4))\n",
    "temp5 = np.concatenate((temp3, np.zeros((Rv + Ri, V + I - Rv - Ri)), temp4), axis=1)\n",
    "temp5\n",
    "\n",
    "temp6 = np.zeros((V + I, V))\n",
    "np.fill_diagonal(temp6, 1)\n",
    "\n",
    "temp7 = np.concatenate((np.zeros((V, I)), np.identity(I)))\n",
    "temp8 = np.concatenate((np.zeros((I, V)), np.identity(I)), axis=1)\n",
    "\n",
    "A = temp5 @ (temp6 @ (G @ NA @ D_inv @ temp1 - G @ T @ temp8) - temp7 @ T.T @ D_inv @ temp1)\n",
    "e = A @ sources\n",
    "A = A @ r_to_y\n",
    "rdot = A @ r + e\n",
    "rdot\n"
   ]
  },
  {
   "cell_type": "code",
   "execution_count": 61,
   "metadata": {},
   "outputs": [
    {
     "data": {
      "text/plain": [
       "array([[-0.64285714,  0.14285714,  0.5       ,  0.        ,  0.14285714,\n",
       "        -0.14285714,  0.5       ,  1.        ,  0.57142857],\n",
       "       [ 0.        ,  0.        ,  0.        ,  0.        ,  0.        ,\n",
       "         0.        ,  0.        ,  0.        ,  0.        ],\n",
       "       [ 0.        ,  0.        ,  0.        ,  0.        ,  0.        ,\n",
       "         0.        ,  0.        ,  0.        ,  0.        ],\n",
       "       [ 0.        ,  0.        ,  0.        ,  0.        ,  0.        ,\n",
       "         0.        ,  0.        ,  0.        ,  0.        ],\n",
       "       [ 0.        ,  0.        ,  0.        ,  0.        ,  0.        ,\n",
       "         0.        ,  0.        ,  0.        ,  0.        ],\n",
       "       [ 0.        ,  0.        ,  0.        ,  0.        ,  0.        ,\n",
       "         0.        ,  0.        ,  0.        ,  0.        ],\n",
       "       [ 0.        ,  0.        ,  0.        ,  0.        ,  0.        ,\n",
       "         0.        ,  0.        ,  0.        ,  0.        ],\n",
       "       [12.14285714, -2.14285714,  5.        ,  5.        , -2.14285714,\n",
       "         2.14285714,  5.        ,  0.        , -8.57142857],\n",
       "       [ 0.        ,  0.        ,  0.        ,  0.        ,  0.        ,\n",
       "         0.        ,  0.        ,  0.        ,  0.        ]])"
      ]
     },
     "execution_count": 61,
     "metadata": {},
     "output_type": "execute_result"
    }
   ],
   "source": [
    "r_to_y @ A"
   ]
  },
  {
   "cell_type": "code",
   "execution_count": 32,
   "metadata": {},
   "outputs": [
    {
     "name": "stdout",
     "output_type": "stream",
     "text": [
      "[ 0.          0.          0.         -0.25       -0.33333333  0.\n",
      "  0.25        0.33333333  0.        ]\n",
      "[ 0.          0.          0.         -0.25       -0.33333333  0.\n",
      "  0.25        0.33333333  0.        ]\n"
     ]
    },
    {
     "data": {
      "text/plain": [
       "array([ True,  True,  True,  True, False,  True,  True,  True,  True])"
      ]
     },
     "execution_count": 32,
     "metadata": {},
     "output_type": "execute_result"
    }
   ],
   "source": [
    "print((super_nodes @ NA)[-2])\n",
    "print(D[-2])\n",
    "(super_nodes @ NA)[-2] == D[-2]\n"
   ]
  },
  {
   "cell_type": "code",
   "execution_count": 1,
   "metadata": {},
   "outputs": [],
   "source": [
    "from circuits import approx as apx\n",
    "\n",
    "circuit = apx.ApproxCircuit(9)\n",
    "circuit.add_wire(0, 1)\n",
    "circuit.add_wire(1, 2)\n",
    "circuit.add_voltage_source(5, 3, 0)\n",
    "circuit.add_capacitor(1, 4, 1)\n",
    "circuit.add_voltage_source(4, 5, 2)\n",
    "circuit.add_inductor(5, 4, 3)\n",
    "circuit.add_resistor(2, 5, 4)\n",
    "circuit.add_resistor(4, 6, 3)\n",
    "circuit.add_resistor(3, 7, 4)\n",
    "circuit.add_dependant_voltage_source(3, 8, 5, 4, 1)\n",
    "circuit.add_wire(7, 6)\n",
    "circuit.add_current_source(6, 8, 7)\n",
    "\n",
    "ts, rs, vs = circuit.solve((0, 10))"
   ]
  },
  {
   "cell_type": "code",
   "execution_count": 7,
   "metadata": {},
   "outputs": [
    {
     "data": {
      "image/png": "[encoded data removed]",
      "text/plain": [
       "<Figure size 432x288 with 1 Axes>"
      ]
     },
     "metadata": {
      "needs_background": "light"
     },
     "output_type": "display_data"
    }
   ],
   "source": [
    "import matplotlib.pyplot as plt\n",
    "\n",
    "plt.plot(ts[:10], rs.T[:10])\n",
    "plt.show()"
   ]
  }
 ],
 "metadata": {
  "interpreter": {
   "hash": "798f3a720154128f5f43200308544b796fe8b1722793bebf5b81a9097641f441"
  },
  "kernelspec": {
   "display_name": "Python 3.10.4 ('vcircuits': venv)",
   "language": "python",
   "name": "python3"
  },
  "language_info": {
   "codemirror_mode": {
    "name": "ipython",
    "version": 3
   },
   "file_extension": ".py",
   "mimetype": "text/x-python",
   "name": "python",
   "nbconvert_exporter": "python",
   "pygments_lexer": "ipython3",
   "version": "3.10.4"
  },
  "orig_nbformat": 4
 },
 "nbformat": 4,
 "nbformat_minor": 2
}
