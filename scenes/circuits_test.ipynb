{
 "cells": [
  {
   "cell_type": "code",
   "execution_count": 1,
   "metadata": {},
   "outputs": [
    {
     "data": {
      "text/html": [
       "<pre style=\"white-space:pre;overflow-x:auto;line-height:normal;font-family:Menlo,'DejaVu Sans Mono',consolas,'Courier New',monospace\">Manim Community <span style=\"color: #008000; text-decoration-color: #008000\">v0.15.2</span>\n",
       "\n",
       "</pre>\n"
      ],
      "text/plain": [
       "Manim Community \u001b[32mv0.\u001b[0m\u001b[32m15.2\u001b[0m\n",
       "\n"
      ]
     },
     "metadata": {},
     "output_type": "display_data"
    }
   ],
   "source": [
    "\n",
    "from circuits.circuit_mobjects import *\n",
    "import circuits.theoretical as tl\n",
    "# from get_circuits import *\n",
    "# import ElectricCircuitsManim.circuits as circuits\n",
    "from manim import *"
   ]
  },
  {
   "cell_type": "code",
   "execution_count": null,
   "metadata": {},
   "outputs": [],
   "source": [
    "%%manim -v WARNING -qm --flush_cache CircuitsTest2 \n",
    "\n",
    "class CircuitsTest2(Scene):\n",
    "    def construct(self):\n",
    "        circuit = tl.ACCircuit(nodes=9, w=1)\n",
    "        circuit.add(tl.Wire(0, 1))\n",
    "        circuit.add(tl.Wire(1, 2))\n",
    "        circuit.add(tl.IndependantVoltage(v=5, head=3, tail=0))\n",
    "        # circuit.add(tl.Resistor(r=1, head=4, tail=1))\n",
    "        # circuit.add(tl.Inductor(l=1, head=4, tail=1))\n",
    "        circuit.add(tl.Capacitor(c=1, head=4, tail=1))\n",
    "        circuit.add(tl.IndependantVoltage(v=4, head=5, tail=2))\n",
    "        circuit.add(tl.Inductor(l=5, head=3, tail=4))\n",
    "        circuit.add(tl.Resistor(r=2, head=4, tail=5))\n",
    "        circuit.add(tl.Resistor(r=4, head=6, tail=3))\n",
    "        circuit.add(tl.Resistor(r=3, head=7, tail=4))\n",
    "        circuit.add(tl.DependantVoltage(a=3, dplus=4, dminus=1, head=8, tail=5))\n",
    "        circuit.add(tl.Wire(head=6, tail=7))\n",
    "        circuit.add(tl.IndependantVoltage(v=6, head=8, tail=7))\n",
    "\n",
    "        circuit.nodal_analysis()\n",
    "        circuit.calculate_currents()\n",
    "\n",
    "        cmob_circuit = circuit.get_mobjects(\n",
    "            [\n",
    "                2 * LEFT + 2 * DOWN,\n",
    "                2 * DOWN,\n",
    "                2 * RIGHT + 2 * DOWN,\n",
    "                2 * LEFT,\n",
    "                ORIGIN,\n",
    "                2 * RIGHT,\n",
    "                2 * UP + 2 * LEFT,\n",
    "                2 * UP,\n",
    "                2 * UP + 2 * RIGHT\n",
    "            ], mob_kwargs={\n",
    "                (0, 3): {\"label\": \"5V\", \"reverse_label\": True},\n",
    "                (1, 4): {\"label\": \"1Ω\"},\n",
    "                (2, 5): {\"label\": \"4V\"},\n",
    "                (3, 4): {\"label\": \"5Ω\"},\n",
    "                (4, 5): {\"label\": \"2Ω\"},\n",
    "                (3, 6): {\"label\": \"4Ω\", \"reverse_label\": True},\n",
    "                (4, 7): {\"label\": \"3Ω\", \"reverse_label\": True},\n",
    "                (5, 8): {\"label\": \"3x\"},\n",
    "                (7, 8): {\"label\": \"6V\", \"reverse_label\": True}\n",
    "            },\n",
    "            do_colored_voltage=True\n",
    "        )\n",
    "\n",
    "        timer = cmob_circuit.get_timer()\n",
    "        cmobjects = cmob_circuit.get_circuit_mobjects()\n",
    "        currents = cmob_circuit.get_current_mobjects()\n",
    "\n",
    "        time = 8 * np.pi\n",
    "        self.add(cmobjects, currents)\n",
    "        # self.play(Create(cmobjects), Create(currents), run_time=2)\n",
    "        self.play(timer.animate.set_value(time), run_time=time, rate_func=linear)\n",
    "        # self.wait()\n"
   ]
  },
  {
   "cell_type": "code",
   "execution_count": 2,
   "metadata": {},
   "outputs": [
    {
     "name": "stderr",
     "output_type": "stream",
     "text": [
      "                                                                                               \r"
     ]
    },
    {
     "data": {
      "text/html": [
       "<video src=\"media\\jupyter\\CircuitsTest1@2022-05-30@16-58-08.mp4\" controls autoplay loop style=\"max-width: 60%;\"  >\n",
       "      Your browser does not support the <code>video</code> element.\n",
       "    </video>"
      ],
      "text/plain": [
       "<IPython.core.display.Video object>"
      ]
     },
     "metadata": {},
     "output_type": "display_data"
    }
   ],
   "source": [
    "%%manim -v WARNING -qm CircuitsTest1\n",
    "\n",
    "class CircuitsTest1(Scene):\n",
    "    def construct(self):\n",
    "        line1 = Inductor(LEFT + DOWN, LEFT + UP, label=\"L\", reverse_label=True)\n",
    "        line2 = Capacitor(LEFT + UP, RIGHT + UP, label=\"C\")\n",
    "        line3 = Resistor(RIGHT + UP, RIGHT + DOWN, label=\"R\")\n",
    "        line4 = IndependantVoltage(RIGHT + DOWN, LEFT + DOWN, label=\"V\")\n",
    "\n",
    "        lines = VGroup(line1, line2, line3, line4)\n",
    "        self.play(*[Create(line) for line in lines], run_time=2)\n",
    "        self.play(line1.animate.set_reverse_label(False))\n",
    "        # self.play(FadeIn(lines))\n",
    "        # self.play(Create(lines), run_time=5)\n",
    "        self.wait()"
   ]
  },
  {
   "cell_type": "code",
   "execution_count": 18,
   "metadata": {},
   "outputs": [
    {
     "data": {
      "image/png": "[encoded data removed]",
      "text/plain": [
       "<IPython.core.display.Image object>"
      ]
     },
     "metadata": {},
     "output_type": "display_data"
    }
   ],
   "source": [
    "%%manim -v WARNING -qm Foolery3\n",
    "\n",
    "def interpolate_color_with_midpoint(color1, color2, midpoint, midpoint_val, alpha):\n",
    "    if alpha < midpoint_val:\n",
    "        return interpolate_color(color1, midpoint, alpha / midpoint_val)\n",
    "    else:\n",
    "        return interpolate_color(midpoint, color2, (alpha - midpoint_val) / (1 - midpoint_val))\n",
    "\n",
    "class Foolery3(Scene):\n",
    "    def construct(self):\n",
    "        # resistor = ResistorElement(LEFT, RIGHT, 0.5, 6)\n",
    "        resistor = Line(UP + RIGHT, DOWN + LEFT, sheen_direction=UP + RIGHT)\n",
    "        # resistor = Resistor(RIGHT, LEFT, do_colored_voltage=True, base_v=0, diff_v=1)\n",
    "        resistor.set_color((RED, GREEN))\n",
    "        self.add(resistor)\n"
   ]
  },
  {
   "cell_type": "code",
   "execution_count": 11,
   "metadata": {},
   "outputs": [
    {
     "name": "stderr",
     "output_type": "stream",
     "text": [
      "                                                                                 \r"
     ]
    },
    {
     "data": {
      "text/html": [
       "<video src=\"media\\jupyter\\Foolery4@2022-05-28@14-03-20.mp4\" controls autoplay loop style=\"max-width: 60%;\"  >\n",
       "      Your browser does not support the <code>video</code> element.\n",
       "    </video>"
      ],
      "text/plain": [
       "<IPython.core.display.Video object>"
      ]
     },
     "metadata": {},
     "output_type": "display_data"
    }
   ],
   "source": [
    "%%manim -v WARNING -qm Foolery4\n",
    "\n",
    "class Foolery4(Scene):\n",
    "    def construct(self):\n",
    "        x = ValueTracker(-0.5)\n",
    "        arrow = Arrow()\n",
    "        arrow.add_updater(lambda a: a.move_to(x.get_value() * RIGHT))\n",
    "\n",
    "        label = Text(\"I\")\n",
    "        label.add_updater(lambda l: l.next_to(arrow, UP))\n",
    "\n",
    "        self.play(FadeIn(arrow), FadeIn(label), x.animate.set_value(0))\n",
    "        self.wait()\n",
    "\n",
    "        self.clear()\n",
    "\n",
    "        x.set_value(-0.5)\n",
    "\n",
    "        arrow = Arrow(DOWN, UP)\n",
    "        arrow.add_updater(lambda a: a.move_to(x.get_value() * UP))\n",
    "\n",
    "        label = Text(\"I\")\n",
    "        label.add_updater(lambda l: l.next_to(arrow, RIGHT))\n",
    "\n",
    "        self.play(FadeIn(arrow), FadeIn(label), x.animate.set_value(0))\n",
    "        self.wait()\n"
   ]
  },
  {
   "cell_type": "code",
   "execution_count": null,
   "metadata": {},
   "outputs": [],
   "source": []
  }
 ],
 "metadata": {
  "interpreter": {
   "hash": "798f3a720154128f5f43200308544b796fe8b1722793bebf5b81a9097641f441"
  },
  "kernelspec": {
   "display_name": "Python 3.10.4 ('vcircuits': venv)",
   "language": "python",
   "name": "python3"
  },
  "language_info": {
   "codemirror_mode": {
    "name": "ipython",
    "version": 3
   },
   "file_extension": ".py",
   "mimetype": "text/x-python",
   "name": "python",
   "nbconvert_exporter": "python",
   "pygments_lexer": "ipython3",
   "version": "3.10.4"
  },
  "orig_nbformat": 4
 },
 "nbformat": 4,
 "nbformat_minor": 2
}
