{
 "cells": [
  {
   "cell_type": "code",
   "execution_count": 1,
   "metadata": {},
   "outputs": [
    {
     "data": {
      "text/html": [
       "<pre style=\"white-space:pre;overflow-x:auto;line-height:normal;font-family:Menlo,'DejaVu Sans Mono',consolas,'Courier New',monospace\">Manim Community <span style=\"color: #008000; text-decoration-color: #008000\">v0.15.2</span>\n",
       "\n",
       "</pre>\n"
      ],
      "text/plain": [
       "Manim Community \u001b[32mv0.\u001b[0m\u001b[32m15.2\u001b[0m\n",
       "\n"
      ]
     },
     "metadata": {},
     "output_type": "display_data"
    }
   ],
   "source": [
    "from manim import *\n",
    "from manim_extensions import *\n",
    "from circuits.circuit_mobjects import *\n",
    "import circuits.theoretical as tl\n",
    "from random import random"
   ]
  },
  {
   "cell_type": "code",
   "execution_count": 2,
   "metadata": {},
   "outputs": [],
   "source": [
    "def fancy(mob, length=1, animation=DrawBorderThenFill, rate_func=None, *args, **kwargs):\n",
    "    return AnimationGroup(*[\n",
    "        animation(mob[i], *args, **occur_at(i / len(mob) * length, (len(mob) - i) / len(mob) * length, length, rate_func=rate_func), introducer=False, **kwargs)\n",
    "        # animation(mob[i], run_time=(len(mob) - i) / len(mob) * length, lag_ratio=i / len(mob))\n",
    "        for i in range(len(mob))\n",
    "    ])\n",
    "\n",
    "def consecutive(mob, length, animation=DrawBorderThenFill, rate_func=None, *args, **kwargs):\n",
    "    return AnimationGroup(*[\n",
    "        animation(mob[i], *args, **occur_at(i / len(mob) * length, 1 / len(mob) * length, length, rate_func=rate_func), introducer=False, **kwargs)\n",
    "        for i in range(len(mob))\n",
    "    ])\n"
   ]
  },
  {
   "cell_type": "code",
   "execution_count": 16,
   "metadata": {},
   "outputs": [
    {
     "name": "stderr",
     "output_type": "stream",
     "text": [
      "<string>:23: RuntimeWarning: divide by zero encountered in double_scalars                   \n",
      "                                                                                                   \r"
     ]
    },
    {
     "data": {
      "text/html": [
       "<video src=\"media\\jupyter\\SVG1@2022-06-07@18-40-57.mp4\" controls autoplay loop style=\"max-width: 60%;\"  >\n",
       "      Your browser does not support the <code>video</code> element.\n",
       "    </video>"
      ],
      "text/plain": [
       "<IPython.core.display.Video object>"
      ]
     },
     "metadata": {},
     "output_type": "display_data"
    }
   ],
   "source": [
    "%%manim -v WARNING -qm SVG1\n",
    "\n",
    "class SVG1(Scene):\n",
    "    def construct(self):\n",
    "        computers_and_phones = SVGMobject(\"./svgs/computers_and_phones.svg\").scale(3)\n",
    "        satellite_communication = SVGMobject(\"./svgs/satellite_communication.svg\").scale(3)\n",
    "        synapses_brain = SVGMobject(\"./svgs/synapses_brain.svg\").scale(3)\n",
    "        heart = SVGMobject(\"./svgs/heart.svg\").scale(2)\n",
    "        power_lines_usa = SVGMobject(\"./svgs/power_lines_usa.svg\").scale(3).shift(RIGHT)\n",
    "        \n",
    "        # Create computers_and_phones\n",
    "        x = ValueTracker(0)\n",
    "        self.play(*fancy(computers_and_phones, 2))\n",
    "        self.clear()\n",
    "        computers_and_phones_dup = always_redraw(\n",
    "            lambda: computers_and_phones\n",
    "                .copy()\n",
    "                .scale(1 / (x.get_value() + 1))\n",
    "                .move_to(x.get_value() * DOWN)\n",
    "        )\n",
    "        satellite_communication_dup = always_redraw(\n",
    "            lambda: satellite_communication\n",
    "                .copy()\n",
    "                .scale(1 / x.get_value())\n",
    "        )\n",
    "        self.add(computers_and_phones_dup)\n",
    "\n",
    "        self.wait(2)\n",
    "\n",
    "        # Drop computers_and_phones\n",
    "        self.play(x.animate.set_value(5), run_time=1)\n",
    "        self.clear()\n",
    "        x.set_value(0)\n",
    "\n",
    "        # Create satellite_communication\n",
    "        self.add(satellite_communication_dup)\n",
    "        self.play(x.animate.set_value(1), run_time=2)\n",
    "\n",
    "        self.play(FadeOut(satellite_communication_dup))\n",
    "\n",
    "        # Create brain\n",
    "        num_electricities = 9\n",
    "        self.play(Create(synapses_brain[:-num_electricities]), run_time=2)\n",
    "        self.play(*consecutive(synapses_brain[-num_electricities:], 2, animation=FadeIn, rate_func=lambda a: there_and_back((a - 0.5) * 2 + 0.5)))\n",
    "        self.play(FadeOut(synapses_brain))\n",
    "\n",
    "        # Create heart\n",
    "        self.play(*fancy(heart, 1))\n",
    "        for _ in range(4):\n",
    "            self.play(\n",
    "                heart.animate.scale(1.2), \n",
    "                rate_func=lambda x: there_and_back(2*x), run_time=1\n",
    "            )\n",
    "        self.remove(heart)\n",
    "\n",
    "        # Create power lines\n",
    "        self.add(power_lines_usa)\n",
    "        nodes = 7\n",
    "        DALLAS, ATLANTA, NEW_YORK, MINNEAPOLIS, SEATTLE, LAS_VAGAS, LAS_ANGELES = range(nodes)\n",
    "        circuit = tl.ACCircuit(nodes)\n",
    "        voltage_sources = [\n",
    "            (DALLAS, LAS_VAGAS),\n",
    "            (LAS_ANGELES, SEATTLE),\n",
    "            (MINNEAPOLIS, LAS_VAGAS),\n",
    "            (ATLANTA, NEW_YORK),\n",
    "        ]\n",
    "        resistors = [\n",
    "            (DALLAS, ATLANTA),\n",
    "            (ATLANTA, MINNEAPOLIS),\n",
    "            (NEW_YORK, MINNEAPOLIS),\n",
    "            (MINNEAPOLIS, DALLAS),\n",
    "            (DALLAS, LAS_ANGELES),\n",
    "            (LAS_ANGELES, LAS_VAGAS),\n",
    "            (LAS_VAGAS, SEATTLE),\n",
    "        ]\n",
    "        [circuit.add(tl.IndependantVoltage(3 * random(), *vs)) for vs in voltage_sources]\n",
    "        [circuit.add(tl.Resistor(1, *r)) for r in resistors]\n",
    "\n",
    "        circuit.nodal_analysis()\n",
    "        circuit.calculate_currents()\n",
    "\n",
    "        cmob_circuit = circuit.get_mobjects(\n",
    "            np.concatenate(([\n",
    "                [0, -1.2],  # DALLAS\n",
    "                [2.8, -1.4],# ATLANTA\n",
    "                [4, 1],     # NEW_YORK\n",
    "                [0.5, 2],   # MINNEAPOLIS\n",
    "                [-4, 2.5],  # SEATTLE\n",
    "                [-3, 0.5],  # LAS_VAGAS\n",
    "                [-4.2, -0.5]# LAS_ANGELES\n",
    "            ], np.zeros((nodes, 1))), axis=1) + RIGHT\n",
    "        )\n",
    "\n",
    "        curr = cmob_circuit.get_current_mobjects()\n",
    "        timer = cmob_circuit.get_timer()\n",
    "\n",
    "        self.add(curr)\n",
    "        self.play(timer.animate.set_value(1), run_time=1, rate_func=linear)\n",
    "\n",
    "        kwhours = Tex(\"$3.99 * 10^9 kWh$\").align_on_border(LEFT).shift(DOWN * 2)\n",
    "        joules = Tex(\"$=14.4 * 10^{15} J$\").next_to(kwhours, DOWN)\n",
    "        self.play(timer.animate(rate_func=linear).increment_value(2), Write(kwhours, rate_func=smooth), run_time=2)\n",
    "        self.play(timer.animate(rate_func=linear).increment_value(1))\n",
    "        self.play(timer.animate(rate_func=linear).increment_value(2), Write(joules, rate_func=smooth), run_time=2)\n",
    "\n",
    "        self.wait()"
   ]
  },
  {
   "cell_type": "code",
   "execution_count": 3,
   "metadata": {},
   "outputs": [
    {
     "name": "stderr",
     "output_type": "stream",
     "text": [
      "                                                                                                    \r"
     ]
    },
    {
     "data": {
      "text/html": [
       "<video src=\"media\\jupyter\\Foolery@2022-06-08@20-20-29.mp4\" controls autoplay loop style=\"max-width: 60%;\"  >\n",
       "      Your browser does not support the <code>video</code> element.\n",
       "    </video>"
      ],
      "text/plain": [
       "<IPython.core.display.Video object>"
      ]
     },
     "metadata": {},
     "output_type": "display_data"
    }
   ],
   "source": [
    "%%manim -v WARNING -qm Foolery\n",
    "\n",
    "class Foolery(Scene):\n",
    "    def construct(self):\n",
    "        saturn5_base = SVGMobject(\"./svgs/saturn5.svg\")\n",
    "\n",
    "        take_off = lambda a: a ** 4\n",
    "        \n",
    "        timer = ValueTracker(0)\n",
    "        take_off_time = 6\n",
    "        take_off_height = 6\n",
    "        zoom = ValueTracker(3)\n",
    "        def position(i):\n",
    "            return \\\n",
    "                (\n",
    "                    take_off(max(timer.get_value() - i, 0) / take_off_time) * take_off_height * UP + \n",
    "                    RIGHT * (i // 2 * (-1) ** i)\n",
    "                ) * zoom.get_value()\n",
    "        def size():\n",
    "            return zoom.get_value()\n",
    "        # saturn5 = always_redraw(lambda: saturn5_base.copy().move_to(position(0)).scale(size()))\n",
    "\n",
    "        other_saturn_5s = VGroup(\n",
    "            *[\n",
    "                SVGMobject(\"./svgs/saturn5.svg\")\n",
    "                for i in range(1, 10)\n",
    "            ]\n",
    "        )\n",
    "        [\n",
    "            saturn5.add_updater(lambda m: m.move_to(position(i-1)).scale(size()))\n",
    "            for i, saturn5 in enumerate(other_saturn_5s)\n",
    "        ]\n",
    "\n",
    "        self.play(\n",
    "            Create(other_saturn_5s),\n",
    "            lag_ratio=0.4\n",
    "            # *[\n",
    "            #     anim\n",
    "            #     for s5 in other_saturn_5s\n",
    "            #     for anim in fancy(s5)\n",
    "            # ]\n",
    "        )\n",
    "        # self.add(other_saturn_5s)\n",
    "        # self.play(*fancy(saturn5))\n",
    "        # self.add(saturn5)\n",
    "\n",
    "        self.play(\n",
    "            timer.animate(rate_func=linear).set_value(take_off_time), \n",
    "            zoom.animate(**occur_at(1, 2, take_off_time)).set_value(1),\n",
    "\n",
    "        #     *[\n",
    "        #         anim \n",
    "        #         for s5 in other_saturn_5s \n",
    "        #         for anim in fancy(s5, rate_func=occur_at(1, 1, take_off_time)[\"rate_func\"])\n",
    "        #     ],\n",
    "\n",
    "        #     run_time=take_off_time\n",
    "        )\n",
    "        self.wait()\n"
   ]
  },
  {
   "cell_type": "code",
   "execution_count": 15,
   "metadata": {},
   "outputs": [
    {
     "name": "stderr",
     "output_type": "stream",
     "text": [
      "                                                                                                  \r"
     ]
    },
    {
     "data": {
      "text/html": [
       "<video src=\"media\\jupyter\\Foolery2@2022-06-08@21-01-20.mp4\" controls autoplay loop style=\"max-width: 60%;\"  >\n",
       "      Your browser does not support the <code>video</code> element.\n",
       "    </video>"
      ],
      "text/plain": [
       "<IPython.core.display.Video object>"
      ]
     },
     "metadata": {},
     "output_type": "display_data"
    }
   ],
   "source": [
    "%%manim -v WARNING -qm Foolery2\n",
    "\n",
    "class Foolery2(Scene):\n",
    "    def construct(self):\n",
    "        saturn5_base = SVGMobject(\"./svgs/saturn5.svg\")\n",
    "\n",
    "        take_off = lambda a: a ** 4\n",
    "        \n",
    "        timer = ValueTracker(0)\n",
    "        take_off_time = 6\n",
    "        take_off_height = 6\n",
    "        zoom = ValueTracker(3)\n",
    "        def position(i):\n",
    "            return \\\n",
    "                (\n",
    "                    take_off(max(timer.get_value() - i, 0) / take_off_time) * take_off_height * UP + \n",
    "                    RIGHT * (i // 2 * (-1) ** i)\n",
    "                ) * zoom.get_value()\n",
    "        def size():\n",
    "            return zoom.get_value()\n",
    "\n",
    "        saturn5s = VGroup(*[\n",
    "            always_redraw(lambda: saturn5_base.copy().move_to(position(i)).scale(size()))\n",
    "            for i in range(1, 10)\n",
    "        ])\n",
    "        self.play(\n",
    "            *[DrawBorderThenFill(s5) for s5 in saturn5s],\n",
    "            run_time=2)\n",
    "        \n",
    "        self.wait()\n",
    "\n"
   ]
  },
  {
   "cell_type": "code",
   "execution_count": 14,
   "metadata": {},
   "outputs": [
    {
     "name": "stderr",
     "output_type": "stream",
     "text": [
      "                                                                     \r"
     ]
    },
    {
     "data": {
      "text/html": [
       "<video src=\"media\\jupyter\\Foolery3@2022-06-08@20-57-08.mp4\" controls autoplay loop style=\"max-width: 60%;\"  >\n",
       "      Your browser does not support the <code>video</code> element.\n",
       "    </video>"
      ],
      "text/plain": [
       "<IPython.core.display.Video object>"
      ]
     },
     "metadata": {},
     "output_type": "display_data"
    }
   ],
   "source": [
    "%%manim -v WARNING -ql Foolery3\n",
    "\n",
    "class Foolery3(Scene):\n",
    "    def construct(self):\n",
    "        saturn5_base = SVGMobject(\"./svgs/saturn5.svg\")\n",
    "        tracker = ValueTracker(0)\n",
    "        saturn5 = always_redraw(lambda: saturn5_base.copy().move_to(tracker.get_value() * RIGHT))\n",
    "        self.play(\n",
    "            Succession(fancy(saturn5),\n",
    "            tracker.animate.set_value(1))\n",
    "        )\n",
    "        self.wait()\n"
   ]
  }
 ],
 "metadata": {
  "interpreter": {
   "hash": "798f3a720154128f5f43200308544b796fe8b1722793bebf5b81a9097641f441"
  },
  "kernelspec": {
   "display_name": "Python 3.10.4 ('vcircuits': venv)",
   "language": "python",
   "name": "python3"
  },
  "language_info": {
   "codemirror_mode": {
    "name": "ipython",
    "version": 3
   },
   "file_extension": ".py",
   "mimetype": "text/x-python",
   "name": "python",
   "nbconvert_exporter": "python",
   "pygments_lexer": "ipython3",
   "version": "3.10.4"
  },
  "orig_nbformat": 4
 },
 "nbformat": 4,
 "nbformat_minor": 2
}
